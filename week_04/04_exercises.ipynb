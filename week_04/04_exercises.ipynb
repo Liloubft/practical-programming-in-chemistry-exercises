{
 "cells": [
  {
   "cell_type": "markdown",
   "metadata": {},
   "source": [
    "# Week 4: Numerical operations, data handling, data visualization\n",
    "\n",
    "\n",
    "**Setup**: make sure you've completed the instructions in the README for this week!\n",
    "\n",
    "\n",
    "This exercise attempts to be a pedagogical introduction to some key libraries in\n",
    "scientific programming.  \n",
    "\n",
    "Unlike the wet lab, it is very hard to break things or blow things up in a notebook. To\n",
    "get the most of these coding exercises, try things out and experiment with the code!\n",
    "\n",
    "Learning some cool things usually starts with a question \n",
    "\n",
    "\n",
    "## 0. Introduction\n",
    "\n",
    "Numpy, pandas, and matplotlib are three of the most widely used libraries in the Python\n",
    "data science ecosystem. Each serves a distinct purpose in data manipulation, analysis,\n",
    "and visualization, making them indispensable tools for scientists, including those in\n",
    "the chemical sciences.\n",
    "\n",
    "* `numpy` is used for efficient array operations and matrix manipulation, and statistical\n",
    "functions.\n",
    "* `pandas` is used for making data tables, and reading, writing and manipulation from\n",
    "  them.\n",
    "* `matplotlib` is used for creating high quality plots and figures.\n",
    "\n",
    "\n",
    "Each will be covered in more detail below. But first, we need to import these modules.\n",
    "With `import x as y` below, we import the package `x` with an ***alias*** `y`. The\n",
    "aliases shown below are community conventions for these packages (i.e. `np` for numpy,\n",
    "`pd` for `pandas` and `plt` for matplotlib). \n",
    "\n",
    "These are important to be aware of, as oftentimes help pages online (for instance, if\n",
    "you are trying to find a solution to a problem on Stack Exchange) may use these\n",
    "aliases without explanation."
   ]
  },
  {
   "cell_type": "code",
<<<<<<< HEAD
   "execution_count": 1,
=======
   "execution_count": null,
>>>>>>> 52ffef64fad52b6491d809afbccad1b6693ccc6a
   "metadata": {},
   "outputs": [],
   "source": [
    "import matplotlib.pyplot as plt\n",
    "import numpy as np\n",
    "import pandas as pd"
   ]
  },
  {
   "cell_type": "markdown",
   "metadata": {},
   "source": [
    "**Note:** if you get a `ModuleNotFound` error, make sure you have gone through this\n",
    "week's README first!"
   ]
  },
  {
   "cell_type": "markdown",
   "metadata": {},
   "source": [
    "## 1. Numerical operations with `numpy`\n",
    "\n",
    "**What is is**: Numpy (Numerical Python) is a library for numerical computing in Python.\n",
    "It provides support for large, multi-dimensional arrays and matrices, along with a\n",
    "collection of mathematical functions to operate on these arrays efficiently.\n",
    "\n",
    "**Why it's used**: Numpy is fundamental for scientific computing due to its powerful\n",
    "data structures, which enable high-performance calculations and data analysis. It serves\n",
    "as the backbone for many other Python data analysis libraries, including pandas and many\n",
    "machine learning frameworks.\n",
    "\n",
    "**Usefulness in Chemical Science**: In chemistry, numpy is essential for handling\n",
    "numerical data such as molecular structures, quantum mechanical properties, and large\n",
    "datasets generated from simulations or experimental measurements. Its efficiency in\n",
    "performing vectorized operations makes it ideal for computational chemistry tasks,\n",
    "including molecular dynamics simulations and numerical analysis."
   ]
  },
  {
   "cell_type": "markdown",
   "metadata": {},
   "source": [
    "### Vectorized operations: faster than `for` loops\n",
    "\n",
    "In previous exercises, you were introduced to for loops as a way to repeatedly execute a\n",
    "block of code for a specified number of times or over a sequence. NumPy operations allow\n",
    "for vectorized processing of data arrays, often replacing the need for for loops with\n",
    "more efficient and concise array-based calculations. They work by ***parallelizing**\n",
    "operations.\n",
    "\n",
    "**Introduction to `%%timeit`**: The `%%timeit` magic command in Jupyter Notebooks is\n",
    "used to measure the execution time of a code block. It runs the code several times in a\n",
    "loop to get an accurate average time, helping you understand the performance of your\n",
    "code. This is particularly useful when comparing the speed of different approaches to\n",
    "solving the same problem.\n",
    "\n",
    "Let's compare the time it takes to sum elements in a list, with for-loops versus\n",
    "`numpy`.\n",
    "\n",
    "First, create a large list as the following, which gives a list of the form `[0, 1, ...,\n",
    "999998, 999999]"
   ]
  },
  {
   "cell_type": "code",
<<<<<<< HEAD
   "execution_count": 2,
   "metadata": {},
   "outputs": [
    {
     "name": "stdout",
     "output_type": "stream",
     "text": [
      "[0, 1, 2, 3, 4]\n",
      "[999995, 999996, 999997, 999998, 999999]\n"
     ]
    }
   ],
=======
   "execution_count": null,
   "metadata": {},
   "outputs": [],
>>>>>>> 52ffef64fad52b6491d809afbccad1b6693ccc6a
   "source": [
    "num_elements = 1000000\n",
    "large_list = list(range(num_elements))\n",
    "\n",
    "print(large_list[:5])  # list indexing as usual\n",
    "print(large_list[-5:])"
   ]
  },
  {
   "cell_type": "markdown",
   "metadata": {},
   "source": [
    "Create functions to sum the elements in the list. For the `numpy` version, we use the\n",
    "function `np.sum` to sum the elements in the list. When using a function from an\n",
    "external module, it is a good idea to read the documentation to understand what it does.\n",
    "\n",
    "In jupyter notebooks, you can write the name of the function followed by `?` to print\n",
    "the documentation. There's a lot going here, but the important part is the signature and\n",
    "the description:\n",
    "```\n",
    "Signature:      \n",
    "np.sum(\n",
    "    a,\n",
    "    axis=None,\n",
    "    dtype=None,\n",
    "    out=None,\n",
    "    keepdims=<no value>,\n",
    "    initial=<no value>,\n",
    "    where=<no value>,\n",
    ")\n",
    "...\n",
    "Sum of array elements over a given axis.\n",
    "```\n",
    "\n",
    "You can also find the docs online. Google: \"numpy sum\" and navigate to (hopefully) the\n",
    "top result, i.e. https://numpy.org/doc/stable/reference/generated/numpy.sum.html"
   ]
  },
  {
   "cell_type": "code",
   "execution_count": null,
   "metadata": {},
   "outputs": [],
<<<<<<< HEAD
   "source": []
  },
  {
   "cell_type": "code",
   "execution_count": 8,
   "metadata": {},
   "outputs": [
    {
     "data": {
      "text/plain": [
       "\u001b[1;31mSignature:\u001b[0m      \n",
       "\u001b[0mnp\u001b[0m\u001b[1;33m.\u001b[0m\u001b[0msum\u001b[0m\u001b[1;33m(\u001b[0m\u001b[1;33m\n",
       "\u001b[0m    \u001b[0ma\u001b[0m\u001b[1;33m,\u001b[0m\u001b[1;33m\n",
       "\u001b[0m    \u001b[0maxis\u001b[0m\u001b[1;33m=\u001b[0m\u001b[1;32mNone\u001b[0m\u001b[1;33m,\u001b[0m\u001b[1;33m\n",
       "\u001b[0m    \u001b[0mdtype\u001b[0m\u001b[1;33m=\u001b[0m\u001b[1;32mNone\u001b[0m\u001b[1;33m,\u001b[0m\u001b[1;33m\n",
       "\u001b[0m    \u001b[0mout\u001b[0m\u001b[1;33m=\u001b[0m\u001b[1;32mNone\u001b[0m\u001b[1;33m,\u001b[0m\u001b[1;33m\n",
       "\u001b[0m    \u001b[0mkeepdims\u001b[0m\u001b[1;33m=\u001b[0m\u001b[1;33m<\u001b[0m\u001b[0mno\u001b[0m \u001b[0mvalue\u001b[0m\u001b[1;33m>\u001b[0m\u001b[1;33m,\u001b[0m\u001b[1;33m\n",
       "\u001b[0m    \u001b[0minitial\u001b[0m\u001b[1;33m=\u001b[0m\u001b[1;33m<\u001b[0m\u001b[0mno\u001b[0m \u001b[0mvalue\u001b[0m\u001b[1;33m>\u001b[0m\u001b[1;33m,\u001b[0m\u001b[1;33m\n",
       "\u001b[0m    \u001b[0mwhere\u001b[0m\u001b[1;33m=\u001b[0m\u001b[1;33m<\u001b[0m\u001b[0mno\u001b[0m \u001b[0mvalue\u001b[0m\u001b[1;33m>\u001b[0m\u001b[1;33m,\u001b[0m\u001b[1;33m\n",
       "\u001b[0m\u001b[1;33m)\u001b[0m\u001b[1;33m\u001b[0m\u001b[1;33m\u001b[0m\u001b[0m\n",
       "\u001b[1;31mCall signature:\u001b[0m  \u001b[0mnp\u001b[0m\u001b[1;33m.\u001b[0m\u001b[0msum\u001b[0m\u001b[1;33m(\u001b[0m\u001b[1;33m*\u001b[0m\u001b[0margs\u001b[0m\u001b[1;33m,\u001b[0m \u001b[1;33m**\u001b[0m\u001b[0mkwargs\u001b[0m\u001b[1;33m)\u001b[0m\u001b[1;33m\u001b[0m\u001b[1;33m\u001b[0m\u001b[0m\n",
       "\u001b[1;31mType:\u001b[0m            _ArrayFunctionDispatcher\n",
       "\u001b[1;31mString form:\u001b[0m     <function sum at 0x0000016748227130>\n",
       "\u001b[1;31mFile:\u001b[0m            c:\\users\\33783\\anaconda3\\envs\\ppchem\\lib\\site-packages\\numpy\\core\\fromnumeric.py\n",
       "\u001b[1;31mDocstring:\u001b[0m      \n",
       "Sum of array elements over a given axis.\n",
       "\n",
       "Parameters\n",
       "----------\n",
       "a : array_like\n",
       "    Elements to sum.\n",
       "axis : None or int or tuple of ints, optional\n",
       "    Axis or axes along which a sum is performed.  The default,\n",
       "    axis=None, will sum all of the elements of the input array.  If\n",
       "    axis is negative it counts from the last to the first axis.\n",
       "\n",
       "    .. versionadded:: 1.7.0\n",
       "\n",
       "    If axis is a tuple of ints, a sum is performed on all of the axes\n",
       "    specified in the tuple instead of a single axis or all the axes as\n",
       "    before.\n",
       "dtype : dtype, optional\n",
       "    The type of the returned array and of the accumulator in which the\n",
       "    elements are summed.  The dtype of `a` is used by default unless `a`\n",
       "    has an integer dtype of less precision than the default platform\n",
       "    integer.  In that case, if `a` is signed then the platform integer\n",
       "    is used while if `a` is unsigned then an unsigned integer of the\n",
       "    same precision as the platform integer is used.\n",
       "out : ndarray, optional\n",
       "    Alternative output array in which to place the result. It must have\n",
       "    the same shape as the expected output, but the type of the output\n",
       "    values will be cast if necessary.\n",
       "keepdims : bool, optional\n",
       "    If this is set to True, the axes which are reduced are left\n",
       "    in the result as dimensions with size one. With this option,\n",
       "    the result will broadcast correctly against the input array.\n",
       "\n",
       "    If the default value is passed, then `keepdims` will not be\n",
       "    passed through to the `sum` method of sub-classes of\n",
       "    `ndarray`, however any non-default value will be.  If the\n",
       "    sub-class' method does not implement `keepdims` any\n",
       "    exceptions will be raised.\n",
       "initial : scalar, optional\n",
       "    Starting value for the sum. See `~numpy.ufunc.reduce` for details.\n",
       "\n",
       "    .. versionadded:: 1.15.0\n",
       "\n",
       "where : array_like of bool, optional\n",
       "    Elements to include in the sum. See `~numpy.ufunc.reduce` for details.\n",
       "\n",
       "    .. versionadded:: 1.17.0\n",
       "\n",
       "Returns\n",
       "-------\n",
       "sum_along_axis : ndarray\n",
       "    An array with the same shape as `a`, with the specified\n",
       "    axis removed.   If `a` is a 0-d array, or if `axis` is None, a scalar\n",
       "    is returned.  If an output array is specified, a reference to\n",
       "    `out` is returned.\n",
       "\n",
       "See Also\n",
       "--------\n",
       "ndarray.sum : Equivalent method.\n",
       "\n",
       "add.reduce : Equivalent functionality of `add`.\n",
       "\n",
       "cumsum : Cumulative sum of array elements.\n",
       "\n",
       "trapz : Integration of array values using the composite trapezoidal rule.\n",
       "\n",
       "mean, average\n",
       "\n",
       "Notes\n",
       "-----\n",
       "Arithmetic is modular when using integer types, and no error is\n",
       "raised on overflow.\n",
       "\n",
       "The sum of an empty array is the neutral element 0:\n",
       "\n",
       ">>> np.sum([])\n",
       "0.0\n",
       "\n",
       "For floating point numbers the numerical precision of sum (and\n",
       "``np.add.reduce``) is in general limited by directly adding each number\n",
       "individually to the result causing rounding errors in every step.\n",
       "However, often numpy will use a  numerically better approach (partial\n",
       "pairwise summation) leading to improved precision in many use-cases.\n",
       "This improved precision is always provided when no ``axis`` is given.\n",
       "When ``axis`` is given, it will depend on which axis is summed.\n",
       "Technically, to provide the best speed possible, the improved precision\n",
       "is only used when the summation is along the fast axis in memory.\n",
       "Note that the exact precision may vary depending on other parameters.\n",
       "In contrast to NumPy, Python's ``math.fsum`` function uses a slower but\n",
       "more precise approach to summation.\n",
       "Especially when summing a large number of lower precision floating point\n",
       "numbers, such as ``float32``, numerical errors can become significant.\n",
       "In such cases it can be advisable to use `dtype=\"float64\"` to use a higher\n",
       "precision for the output.\n",
       "\n",
       "Examples\n",
       "--------\n",
       ">>> np.sum([0.5, 1.5])\n",
       "2.0\n",
       ">>> np.sum([0.5, 0.7, 0.2, 1.5], dtype=np.int32)\n",
       "1\n",
       ">>> np.sum([[0, 1], [0, 5]])\n",
       "6\n",
       ">>> np.sum([[0, 1], [0, 5]], axis=0)\n",
       "array([0, 6])\n",
       ">>> np.sum([[0, 1], [0, 5]], axis=1)\n",
       "array([1, 5])\n",
       ">>> np.sum([[0, 1], [np.nan, 5]], where=[False, True], axis=1)\n",
       "array([1., 5.])\n",
       "\n",
       "If the accumulator is too small, overflow occurs:\n",
       "\n",
       ">>> np.ones(128, dtype=np.int8).sum(dtype=np.int8)\n",
       "-128\n",
       "\n",
       "You can also start the sum with a value other than zero:\n",
       "\n",
       ">>> np.sum([10], initial=5)\n",
       "15\n",
       "\u001b[1;31mClass docstring:\u001b[0m\n",
       "Class to wrap functions with checks for __array_function__ overrides.\n",
       "\n",
       "All arguments are required, and can only be passed by position.\n",
       "\n",
       "Parameters\n",
       "----------\n",
       "dispatcher : function or None\n",
       "    The dispatcher function that returns a single sequence-like object\n",
       "    of all arguments relevant.  It must have the same signature (except\n",
       "    the default values) as the actual implementation.\n",
       "    If ``None``, this is a ``like=`` dispatcher and the\n",
       "    ``_ArrayFunctionDispatcher`` must be called with ``like`` as the\n",
       "    first (additional and positional) argument.\n",
       "implementation : function\n",
       "    Function that implements the operation on NumPy arrays without\n",
       "    overrides.  Arguments passed calling the ``_ArrayFunctionDispatcher``\n",
       "    will be forwarded to this (and the ``dispatcher``) as if using\n",
       "    ``*args, **kwargs``.\n",
       "\n",
       "Attributes\n",
       "----------\n",
       "_implementation : function\n",
       "    The original implementation passed in."
      ]
     },
     "metadata": {},
     "output_type": "display_data"
    }
   ],
   "source": [
    "np.sum?\n"
=======
   "source": [
    "np.sum?"
>>>>>>> 52ffef64fad52b6491d809afbccad1b6693ccc6a
   ]
  },
  {
   "cell_type": "code",
<<<<<<< HEAD
   "execution_count": 9,
=======
   "execution_count": null,
>>>>>>> 52ffef64fad52b6491d809afbccad1b6693ccc6a
   "metadata": {},
   "outputs": [],
   "source": [
    "# Python for loops\n",
    "def sum_python_loop(data) -> float:\n",
    "    \"\"\"Sum the elements in `data` using a for loop\"\"\"\n",
    "    total = 0\n",
    "    for x in data:\n",
    "        total += x\n",
    "    return total\n",
    "\n",
    "\n",
    "# Numpy sum\n",
    "def sum_numpy(data) -> float:\n",
    "    \"\"\"Sum the elements in `data` using numpy\"\"\"\n",
    "    return np.sum(data)"
   ]
  },
  {
   "cell_type": "markdown",
   "metadata": {},
   "source": [
    "Now uncomment the cells below and run them. What do you notice about the timings?"
   ]
  },
  {
   "cell_type": "code",
<<<<<<< HEAD
   "execution_count": 12,
   "metadata": {},
   "outputs": [
    {
     "name": "stdout",
     "output_type": "stream",
     "text": [
      "499999500000\n",
      "499999500000\n",
      "499999500000\n",
      "499999500000\n",
      "499999500000\n",
      "499999500000\n",
      "499999500000\n",
      "499999500000\n",
      "499999500000\n",
      "499999500000\n",
      "499999500000\n",
      "499999500000\n",
      "499999500000\n",
      "499999500000\n",
      "499999500000\n",
      "499999500000\n",
      "499999500000\n",
      "499999500000\n",
      "499999500000\n",
      "499999500000\n",
      "499999500000\n",
      "499999500000\n",
      "499999500000\n",
      "499999500000\n",
      "499999500000\n",
      "499999500000\n",
      "499999500000\n",
      "499999500000\n",
      "499999500000\n",
      "499999500000\n",
      "499999500000\n",
      "499999500000\n",
      "499999500000\n",
      "499999500000\n",
      "499999500000\n",
      "499999500000\n",
      "499999500000\n",
      "499999500000\n",
      "499999500000\n",
      "499999500000\n",
      "499999500000\n",
      "499999500000\n",
      "499999500000\n",
      "499999500000\n",
      "499999500000\n",
      "499999500000\n",
      "499999500000\n",
      "499999500000\n",
      "499999500000\n",
      "499999500000\n",
      "499999500000\n",
      "499999500000\n",
      "499999500000\n",
      "499999500000\n",
      "499999500000\n",
      "499999500000\n",
      "499999500000\n",
      "499999500000\n",
      "499999500000\n",
      "499999500000\n",
      "499999500000\n",
      "499999500000\n",
      "499999500000\n",
      "499999500000\n",
      "499999500000\n",
      "499999500000\n",
      "499999500000\n",
      "499999500000\n",
      "499999500000\n",
      "499999500000\n",
      "499999500000\n",
      "499999500000\n",
      "499999500000\n",
      "499999500000\n",
      "499999500000\n",
      "499999500000\n",
      "499999500000\n",
      "499999500000\n",
      "499999500000\n",
      "499999500000\n",
      "499999500000\n",
      "123 ms ± 3.86 ms per loop (mean ± std. dev. of 7 runs, 10 loops each)\n"
     ]
    }
   ],
   "source": [
    "%%timeit\n",
    "print(sum_python_loop(large_list))"
=======
   "execution_count": null,
   "metadata": {},
   "outputs": [],
   "source": [
    "%%timeit\n",
    "sum_python_loop(large_list)"
>>>>>>> 52ffef64fad52b6491d809afbccad1b6693ccc6a
   ]
  },
  {
   "cell_type": "code",
<<<<<<< HEAD
   "execution_count": 13,
   "metadata": {},
   "outputs": [
    {
     "name": "stdout",
     "output_type": "stream",
     "text": [
      "1783293664\n",
      "1783293664\n",
      "1783293664\n",
      "1783293664\n",
      "1783293664\n",
      "1783293664\n",
      "1783293664\n",
      "1783293664\n",
      "1783293664\n",
      "1783293664\n",
      "1783293664\n",
      "1783293664\n",
      "1783293664\n",
      "1783293664\n",
      "1783293664\n",
      "1783293664\n",
      "1783293664\n",
      "1783293664\n",
      "1783293664\n",
      "1783293664\n",
      "1783293664\n",
      "1783293664\n",
      "1783293664\n",
      "1783293664\n",
      "1783293664\n",
      "1783293664\n",
      "1783293664\n",
      "1783293664\n",
      "1783293664\n",
      "1783293664\n",
      "1783293664\n",
      "1783293664\n",
      "1783293664\n",
      "1783293664\n",
      "1783293664\n",
      "1783293664\n",
      "1783293664\n",
      "1783293664\n",
      "1783293664\n",
      "1783293664\n",
      "1783293664\n",
      "1783293664\n",
      "1783293664\n",
      "1783293664\n",
      "1783293664\n",
      "1783293664\n",
      "1783293664\n",
      "1783293664\n",
      "1783293664\n",
      "1783293664\n",
      "1783293664\n",
      "1783293664\n",
      "1783293664\n",
      "1783293664\n",
      "1783293664\n",
      "1783293664\n",
      "1783293664\n",
      "1783293664\n",
      "1783293664\n",
      "1783293664\n",
      "1783293664\n",
      "1783293664\n",
      "1783293664\n",
      "1783293664\n",
      "1783293664\n",
      "1783293664\n",
      "1783293664\n",
      "1783293664\n",
      "1783293664\n",
      "1783293664\n",
      "1783293664\n",
      "1783293664\n",
      "1783293664\n",
      "1783293664\n",
      "1783293664\n",
      "1783293664\n",
      "1783293664\n",
      "1783293664\n",
      "1783293664\n",
      "1783293664\n",
      "1783293664\n",
      "132 ms ± 15.4 ms per loop (mean ± std. dev. of 7 runs, 10 loops each)\n"
     ]
    }
   ],
   "source": [
    "%%timeit\n",
    "print(sum_numpy(large_list))"
=======
   "execution_count": null,
   "metadata": {},
   "outputs": [],
   "source": [
    "%%timeit\n",
    "sum_numpy(large_list)"
>>>>>>> 52ffef64fad52b6491d809afbccad1b6693ccc6a
   ]
  },
  {
   "cell_type": "markdown",
   "metadata": {},
   "source": [
    "Hmmm, it appears that the Python for loop is faster here! Why? Aren't vectorized\n",
    "operations supposed to be quicker than for loops?\n",
    "\n",
    "Let's try again, but instead of summing elements in a list let's store our data in a\n",
    "numpy `array` instead. Here we used the `np.arange` function to generate an array of\n",
    "integers in the range `0, ... (n_elements - 1)`"
   ]
  },
  {
   "cell_type": "code",
<<<<<<< HEAD
   "execution_count": 14,
   "metadata": {},
   "outputs": [
    {
     "name": "stdout",
     "output_type": "stream",
     "text": [
      "[0 1 2 3 4]\n",
      "[999995 999996 999997 999998 999999]\n"
     ]
    }
   ],
=======
   "execution_count": null,
   "metadata": {},
   "outputs": [],
>>>>>>> 52ffef64fad52b6491d809afbccad1b6693ccc6a
   "source": [
    "large_array = np.arange(num_elements)\n",
    "\n",
    "print(large_array[:5])  # array indexing just like list indexing\n",
    "print(large_array[-5:])"
   ]
  },
  {
   "cell_type": "code",
<<<<<<< HEAD
   "execution_count": 15,
   "metadata": {},
   "outputs": [
    {
     "name": "stderr",
     "output_type": "stream",
     "text": [
      "C:\\Users\\33783\\AppData\\Local\\Temp\\ipykernel_13780\\2873618824.py:6: RuntimeWarning: overflow encountered in scalar add\n",
      "  total += x\n"
     ]
    },
    {
     "name": "stdout",
     "output_type": "stream",
     "text": [
      "193 ms ± 16.5 ms per loop (mean ± std. dev. of 7 runs, 1 loop each)\n"
     ]
    }
   ],
=======
   "execution_count": null,
   "metadata": {},
   "outputs": [],
>>>>>>> 52ffef64fad52b6491d809afbccad1b6693ccc6a
   "source": [
    "%%timeit\n",
    "sum_python_loop(large_array)"
   ]
  },
  {
   "cell_type": "code",
<<<<<<< HEAD
   "execution_count": 16,
   "metadata": {},
   "outputs": [
    {
     "name": "stdout",
     "output_type": "stream",
     "text": [
      "663 µs ± 18.1 µs per loop (mean ± std. dev. of 7 runs, 1,000 loops each)\n"
     ]
    }
   ],
=======
   "execution_count": null,
   "metadata": {},
   "outputs": [],
>>>>>>> 52ffef64fad52b6491d809afbccad1b6693ccc6a
   "source": [
    "%%timeit\n",
    "sum_numpy(large_array)"
   ]
  },
  {
   "cell_type": "markdown",
   "metadata": {},
   "source": [
    "Much better!\n",
    "\n",
    "In the first example, the `np.sum` function first converts the list in `large_list` to a\n",
    "numpy `array`, which has a large associated overhead cost. This makes the timings\n",
    "comparable between the for loop approach and the numpy approach. However, by first\n",
    "storing our data in a `np.array` in the second example, we gain access to the efficient\n",
    "array operations in `numpy`. If we store and pass around data in numpy arrays in all of\n",
    "our programs, we only have to consider the overhead costs once.\n",
    "\n",
    "In general, Python lists are versatile and useful: they can be dynamically-sized and\n",
    "collect together elements with different data types.\n",
    "\n",
    "However, if we are dealing with data whose size we know, and whose data types are\n",
    "homogenous (in this case `int`), using instead a NumPy array will give us far enhanced\n",
    "performance in numerical computations versus for loops. For specific applications in\n",
    "chemistry that are computation-intensive, like data analysis, visualization, and machine\n",
    "learning, we often want to work with arrays.\n",
    "\n",
    "Let's explore more examples of array-based operations with numpy.\n",
    "\n",
    "\n",
    "### Summing lists / arrays\n",
    "\n",
    "Let's create two lists of the same size and sum them element-wise"
   ]
  },
  {
   "cell_type": "code",
<<<<<<< HEAD
   "execution_count": 17,
=======
   "execution_count": null,
>>>>>>> 52ffef64fad52b6491d809afbccad1b6693ccc6a
   "metadata": {},
   "outputs": [],
   "source": [
    "list_a = list(range(1000000))\n",
    "list_b = list(range(1, 1000001))\n",
    "\n",
    "def add_python_loop(list1: list, list2: list) -> list:\n",
    "    return [x + y for x, y in zip(list1, list2)]"
   ]
  },
  {
   "cell_type": "code",
<<<<<<< HEAD
   "execution_count": 18,
   "metadata": {},
   "outputs": [
    {
     "name": "stdout",
     "output_type": "stream",
     "text": [
      "[1, 3, 5, 7, 9, 11, 13, 15, 17, 19]\n"
     ]
    }
   ],
=======
   "execution_count": null,
   "metadata": {},
   "outputs": [],
>>>>>>> 52ffef64fad52b6491d809afbccad1b6693ccc6a
   "source": [
    "# See what the function returns\n",
    "new_list = add_python_loop(list_a, list_b)\n",
    "print(new_list[:10])"
   ]
  },
  {
   "cell_type": "code",
<<<<<<< HEAD
   "execution_count": 19,
   "metadata": {},
   "outputs": [
    {
     "name": "stdout",
     "output_type": "stream",
     "text": [
      "214 ms ± 15.4 ms per loop (mean ± std. dev. of 7 runs, 1 loop each)\n"
     ]
    }
   ],
=======
   "execution_count": null,
   "metadata": {},
   "outputs": [],
>>>>>>> 52ffef64fad52b6491d809afbccad1b6693ccc6a
   "source": [
    "%%timeit  # now time it\n",
    "add_python_loop(list_a, list_b)"
   ]
  },
  {
   "cell_type": "code",
<<<<<<< HEAD
   "execution_count": 20,
=======
   "execution_count": null,
>>>>>>> 52ffef64fad52b6491d809afbccad1b6693ccc6a
   "metadata": {},
   "outputs": [],
   "source": [
    "array_a = np.arange(1000000)  # integers from 0 to 999999\n",
    "array_b = np.arange(1, 1000001)  # integers from 1 to 1000000\n",
    "\n",
    "def add_numpy_arrays(array_1: np.ndarray, array_2: np.ndarray) -> np.ndarray:\n",
    "    return array_1 + array_2  # you can just use the + operator here!"
   ]
  },
  {
   "cell_type": "code",
<<<<<<< HEAD
   "execution_count": 21,
   "metadata": {},
   "outputs": [
    {
     "name": "stdout",
     "output_type": "stream",
     "text": [
      "[ 1  3  5  7  9 11 13 15 17 19]\n",
      "(1000000,) (1000000,) (1000000,)\n"
     ]
    }
   ],
=======
   "execution_count": null,
   "metadata": {},
   "outputs": [],
>>>>>>> 52ffef64fad52b6491d809afbccad1b6693ccc6a
   "source": [
    "# See what the function returns\n",
    "new_array = add_numpy_arrays(array_a, array_b)\n",
    "print(new_array[:10])\n",
    "\n",
    "# Use the `.shape` attribute to see the shapes of the arrays\n",
    "print(array_a.shape, array_b.shape, new_array.shape)"
   ]
  },
  {
   "cell_type": "code",
<<<<<<< HEAD
   "execution_count": 22,
   "metadata": {},
   "outputs": [
    {
     "name": "stdout",
     "output_type": "stream",
     "text": [
      "3.54 ms ± 482 µs per loop (mean ± std. dev. of 7 runs, 100 loops each)\n"
     ]
    }
   ],
=======
   "execution_count": null,
   "metadata": {},
   "outputs": [],
>>>>>>> 52ffef64fad52b6491d809afbccad1b6693ccc6a
   "source": [
    "%%timeit  # now time it\n",
    "add_numpy_arrays(array_a, array_b)"
   ]
  },
  {
   "cell_type": "markdown",
   "metadata": {},
   "source": [
    "### Initializing numpy arrays\n",
    "\n",
    "In NumPy, multi-dimensional arrays (also known as ndarrays) are the foundation for most\n",
    "of the library's operations, allowing you to efficiently store and manipulate data\n",
    "across multiple dimensions. Creating multi-dimensional arrays in NumPy is\n",
    "straightforward, enabling the handling of complex data structures like matrices for\n",
    "linear algebra, tensors for machine learning, or grids for scientific computing.\n",
    "\n",
    "You can create multi-dimensional arrays in NumPy using various methods, including\n",
    "np.array, np.zeros, np.ones, and np.arange, among others. Here are some examples to get\n",
    "you started:"
   ]
  },
  {
   "cell_type": "code",
<<<<<<< HEAD
   "execution_count": 23,
   "metadata": {},
   "outputs": [
    {
     "name": "stdout",
     "output_type": "stream",
     "text": [
      "[[1 2 3]\n",
      " [4 5 6]]\n",
      "[[0. 0. 0.]\n",
      " [0. 0. 0.]]\n",
      "[[[1. 1. 1.]\n",
      "  [1. 1. 1.]\n",
      "  [1. 1. 1.]]\n",
      "\n",
      " [[1. 1. 1.]\n",
      "  [1. 1. 1.]\n",
      "  [1. 1. 1.]]\n",
      "\n",
      " [[1. 1. 1.]\n",
      "  [1. 1. 1.]\n",
      "  [1. 1. 1.]]]\n",
      "[[ 0  1  2  3]\n",
      " [ 4  5  6  7]\n",
      " [ 8  9 10 11]]\n"
     ]
    }
   ],
=======
   "execution_count": null,
   "metadata": {},
   "outputs": [],
>>>>>>> 52ffef64fad52b6491d809afbccad1b6693ccc6a
   "source": [
    "# Create a 2D array (matrix)\n",
    "matrix = np.array([[1, 2, 3], [4, 5, 6]])\n",
    "print(matrix)\n",
    "\n",
    "# Create a 2x3 array of zeros\n",
    "zeros_array = np.zeros((2, 3))\n",
    "print(zeros_array)\n",
    "\n",
    "# Create a 3x3x3 array of ones\n",
    "ones_array = np.ones((3, 3, 3))\n",
    "print(ones_array)\n",
    "\n",
    "# Create a 3x4 array with a range of numbers\n",
    "range_array = np.arange(12).reshape(3, 4)\n",
    "print(range_array)"
   ]
  },
  {
   "cell_type": "markdown",
   "metadata": {},
   "source": [
    "Often, you'll need to reshape an array into a different dimension. This is done using\n",
    "the .reshape() method, which allows you to specify the new shape as long as the total\n",
    "number of elements remains the same."
   ]
  },
  {
   "cell_type": "code",
<<<<<<< HEAD
   "execution_count": 24,
   "metadata": {},
   "outputs": [
    {
     "name": "stdout",
     "output_type": "stream",
     "text": [
      "[0 1 2 3 4 5]\n",
      "[[0 1 2]\n",
      " [3 4 5]]\n"
     ]
    }
   ],
=======
   "execution_count": null,
   "metadata": {},
   "outputs": [],
>>>>>>> 52ffef64fad52b6491d809afbccad1b6693ccc6a
   "source": [
    "# Reshape a 1D array into a 2D array\n",
    "one_d_array = np.arange(6)\n",
    "two_d_array = one_d_array.reshape((2, 3))\n",
    "print(one_d_array)\n",
    "print(two_d_array)"
   ]
  },
  {
   "cell_type": "markdown",
   "metadata": {},
   "source": [
    "### Reading from file into numpy arrays\n",
    "\n",
    "To illustrate how to read chemical data from a file using `np.loadtxt`, let's consider a\n",
    "simple example where we have a file containing molecular weights of several compounds,\n",
    "stored in the file \"molecular_weights.txt\". \n",
    "\n",
    "The data file is organized with the name of the compound in one column and its molecular\n",
    "weight in the other. For this example, let's assume we are only interested in the\n",
    "numerical data (molecular weights) and that our data file is structured with comments\n",
    "marked by \"#\" and values separated by commas."
   ]
  },
  {
   "cell_type": "code",
<<<<<<< HEAD
   "execution_count": 25,
   "metadata": {},
   "outputs": [
    {
     "ename": "ValueError",
     "evalue": "could not convert string 'Water' to float64 at row 0, column 1.",
     "output_type": "error",
     "traceback": [
      "\u001b[1;31m---------------------------------------------------------------------------\u001b[0m",
      "\u001b[1;31mValueError\u001b[0m                                Traceback (most recent call last)",
      "\u001b[1;31mValueError\u001b[0m: could not convert string to float: 'Water'",
      "\nThe above exception was the direct cause of the following exception:\n",
      "\u001b[1;31mValueError\u001b[0m                                Traceback (most recent call last)",
      "Cell \u001b[1;32mIn[25], line 7\u001b[0m\n\u001b[0;32m      2\u001b[0m file_path \u001b[38;5;241m=\u001b[39m \u001b[38;5;124m'\u001b[39m\u001b[38;5;124mmolecular_data.txt\u001b[39m\u001b[38;5;124m'\u001b[39m\n\u001b[0;32m      4\u001b[0m \u001b[38;5;66;03m# Note that if we try to load the entire file into a single array, we'll get an error as\u001b[39;00m\n\u001b[0;32m      5\u001b[0m \u001b[38;5;66;03m# the file contains both strings and floats. Here, we use delimiter=',' to handle the\u001b[39;00m\n\u001b[0;32m      6\u001b[0m \u001b[38;5;66;03m# comma-separated values\u001b[39;00m\n\u001b[1;32m----> 7\u001b[0m \u001b[43mnp\u001b[49m\u001b[38;5;241;43m.\u001b[39;49m\u001b[43mloadtxt\u001b[49m\u001b[43m(\u001b[49m\u001b[43mfile_path\u001b[49m\u001b[43m,\u001b[49m\u001b[43m \u001b[49m\u001b[43mdelimiter\u001b[49m\u001b[38;5;241;43m=\u001b[39;49m\u001b[38;5;124;43m'\u001b[39;49m\u001b[38;5;124;43m,\u001b[39;49m\u001b[38;5;124;43m'\u001b[39;49m\u001b[43m,\u001b[49m\u001b[43m \u001b[49m\u001b[43mskiprows\u001b[49m\u001b[38;5;241;43m=\u001b[39;49m\u001b[38;5;241;43m1\u001b[39;49m\u001b[43m)\u001b[49m\n",
      "File \u001b[1;32m~\\anaconda3\\envs\\ppchem\\lib\\site-packages\\numpy\\lib\\npyio.py:1373\u001b[0m, in \u001b[0;36mloadtxt\u001b[1;34m(fname, dtype, comments, delimiter, converters, skiprows, usecols, unpack, ndmin, encoding, max_rows, quotechar, like)\u001b[0m\n\u001b[0;32m   1370\u001b[0m \u001b[38;5;28;01mif\u001b[39;00m \u001b[38;5;28misinstance\u001b[39m(delimiter, \u001b[38;5;28mbytes\u001b[39m):\n\u001b[0;32m   1371\u001b[0m     delimiter \u001b[38;5;241m=\u001b[39m delimiter\u001b[38;5;241m.\u001b[39mdecode(\u001b[38;5;124m'\u001b[39m\u001b[38;5;124mlatin1\u001b[39m\u001b[38;5;124m'\u001b[39m)\n\u001b[1;32m-> 1373\u001b[0m arr \u001b[38;5;241m=\u001b[39m \u001b[43m_read\u001b[49m\u001b[43m(\u001b[49m\u001b[43mfname\u001b[49m\u001b[43m,\u001b[49m\u001b[43m \u001b[49m\u001b[43mdtype\u001b[49m\u001b[38;5;241;43m=\u001b[39;49m\u001b[43mdtype\u001b[49m\u001b[43m,\u001b[49m\u001b[43m \u001b[49m\u001b[43mcomment\u001b[49m\u001b[38;5;241;43m=\u001b[39;49m\u001b[43mcomment\u001b[49m\u001b[43m,\u001b[49m\u001b[43m \u001b[49m\u001b[43mdelimiter\u001b[49m\u001b[38;5;241;43m=\u001b[39;49m\u001b[43mdelimiter\u001b[49m\u001b[43m,\u001b[49m\n\u001b[0;32m   1374\u001b[0m \u001b[43m            \u001b[49m\u001b[43mconverters\u001b[49m\u001b[38;5;241;43m=\u001b[39;49m\u001b[43mconverters\u001b[49m\u001b[43m,\u001b[49m\u001b[43m \u001b[49m\u001b[43mskiplines\u001b[49m\u001b[38;5;241;43m=\u001b[39;49m\u001b[43mskiprows\u001b[49m\u001b[43m,\u001b[49m\u001b[43m \u001b[49m\u001b[43musecols\u001b[49m\u001b[38;5;241;43m=\u001b[39;49m\u001b[43musecols\u001b[49m\u001b[43m,\u001b[49m\n\u001b[0;32m   1375\u001b[0m \u001b[43m            \u001b[49m\u001b[43munpack\u001b[49m\u001b[38;5;241;43m=\u001b[39;49m\u001b[43munpack\u001b[49m\u001b[43m,\u001b[49m\u001b[43m \u001b[49m\u001b[43mndmin\u001b[49m\u001b[38;5;241;43m=\u001b[39;49m\u001b[43mndmin\u001b[49m\u001b[43m,\u001b[49m\u001b[43m \u001b[49m\u001b[43mencoding\u001b[49m\u001b[38;5;241;43m=\u001b[39;49m\u001b[43mencoding\u001b[49m\u001b[43m,\u001b[49m\n\u001b[0;32m   1376\u001b[0m \u001b[43m            \u001b[49m\u001b[43mmax_rows\u001b[49m\u001b[38;5;241;43m=\u001b[39;49m\u001b[43mmax_rows\u001b[49m\u001b[43m,\u001b[49m\u001b[43m \u001b[49m\u001b[43mquote\u001b[49m\u001b[38;5;241;43m=\u001b[39;49m\u001b[43mquotechar\u001b[49m\u001b[43m)\u001b[49m\n\u001b[0;32m   1378\u001b[0m \u001b[38;5;28;01mreturn\u001b[39;00m arr\n",
      "File \u001b[1;32m~\\anaconda3\\envs\\ppchem\\lib\\site-packages\\numpy\\lib\\npyio.py:1016\u001b[0m, in \u001b[0;36m_read\u001b[1;34m(fname, delimiter, comment, quote, imaginary_unit, usecols, skiplines, max_rows, converters, ndmin, unpack, dtype, encoding)\u001b[0m\n\u001b[0;32m   1013\u001b[0m     data \u001b[38;5;241m=\u001b[39m _preprocess_comments(data, comments, encoding)\n\u001b[0;32m   1015\u001b[0m \u001b[38;5;28;01mif\u001b[39;00m read_dtype_via_object_chunks \u001b[38;5;129;01mis\u001b[39;00m \u001b[38;5;28;01mNone\u001b[39;00m:\n\u001b[1;32m-> 1016\u001b[0m     arr \u001b[38;5;241m=\u001b[39m \u001b[43m_load_from_filelike\u001b[49m\u001b[43m(\u001b[49m\n\u001b[0;32m   1017\u001b[0m \u001b[43m        \u001b[49m\u001b[43mdata\u001b[49m\u001b[43m,\u001b[49m\u001b[43m \u001b[49m\u001b[43mdelimiter\u001b[49m\u001b[38;5;241;43m=\u001b[39;49m\u001b[43mdelimiter\u001b[49m\u001b[43m,\u001b[49m\u001b[43m \u001b[49m\u001b[43mcomment\u001b[49m\u001b[38;5;241;43m=\u001b[39;49m\u001b[43mcomment\u001b[49m\u001b[43m,\u001b[49m\u001b[43m \u001b[49m\u001b[43mquote\u001b[49m\u001b[38;5;241;43m=\u001b[39;49m\u001b[43mquote\u001b[49m\u001b[43m,\u001b[49m\n\u001b[0;32m   1018\u001b[0m \u001b[43m        \u001b[49m\u001b[43mimaginary_unit\u001b[49m\u001b[38;5;241;43m=\u001b[39;49m\u001b[43mimaginary_unit\u001b[49m\u001b[43m,\u001b[49m\n\u001b[0;32m   1019\u001b[0m \u001b[43m        \u001b[49m\u001b[43musecols\u001b[49m\u001b[38;5;241;43m=\u001b[39;49m\u001b[43musecols\u001b[49m\u001b[43m,\u001b[49m\u001b[43m \u001b[49m\u001b[43mskiplines\u001b[49m\u001b[38;5;241;43m=\u001b[39;49m\u001b[43mskiplines\u001b[49m\u001b[43m,\u001b[49m\u001b[43m \u001b[49m\u001b[43mmax_rows\u001b[49m\u001b[38;5;241;43m=\u001b[39;49m\u001b[43mmax_rows\u001b[49m\u001b[43m,\u001b[49m\n\u001b[0;32m   1020\u001b[0m \u001b[43m        \u001b[49m\u001b[43mconverters\u001b[49m\u001b[38;5;241;43m=\u001b[39;49m\u001b[43mconverters\u001b[49m\u001b[43m,\u001b[49m\u001b[43m \u001b[49m\u001b[43mdtype\u001b[49m\u001b[38;5;241;43m=\u001b[39;49m\u001b[43mdtype\u001b[49m\u001b[43m,\u001b[49m\n\u001b[0;32m   1021\u001b[0m \u001b[43m        \u001b[49m\u001b[43mencoding\u001b[49m\u001b[38;5;241;43m=\u001b[39;49m\u001b[43mencoding\u001b[49m\u001b[43m,\u001b[49m\u001b[43m \u001b[49m\u001b[43mfilelike\u001b[49m\u001b[38;5;241;43m=\u001b[39;49m\u001b[43mfilelike\u001b[49m\u001b[43m,\u001b[49m\n\u001b[0;32m   1022\u001b[0m \u001b[43m        \u001b[49m\u001b[43mbyte_converters\u001b[49m\u001b[38;5;241;43m=\u001b[39;49m\u001b[43mbyte_converters\u001b[49m\u001b[43m)\u001b[49m\n\u001b[0;32m   1024\u001b[0m \u001b[38;5;28;01melse\u001b[39;00m:\n\u001b[0;32m   1025\u001b[0m     \u001b[38;5;66;03m# This branch reads the file into chunks of object arrays and then\u001b[39;00m\n\u001b[0;32m   1026\u001b[0m     \u001b[38;5;66;03m# casts them to the desired actual dtype.  This ensures correct\u001b[39;00m\n\u001b[0;32m   1027\u001b[0m     \u001b[38;5;66;03m# string-length and datetime-unit discovery (like `arr.astype()`).\u001b[39;00m\n\u001b[0;32m   1028\u001b[0m     \u001b[38;5;66;03m# Due to chunking, certain error reports are less clear, currently.\u001b[39;00m\n\u001b[0;32m   1029\u001b[0m     \u001b[38;5;28;01mif\u001b[39;00m filelike:\n",
      "\u001b[1;31mValueError\u001b[0m: could not convert string 'Water' to float64 at row 0, column 1."
     ]
    }
   ],
=======
   "execution_count": null,
   "metadata": {},
   "outputs": [],
>>>>>>> 52ffef64fad52b6491d809afbccad1b6693ccc6a
   "source": [
    "# Path to the data file\n",
    "file_path = 'molecular_data.txt'\n",
    "\n",
    "# Note that if we try to load the entire file into a single array, we'll get an error as\n",
    "# the file contains both strings and floats. Here, we use delimiter=',' to handle the\n",
    "# comma-separated values\n",
    "np.loadtxt(file_path, delimiter=',', skiprows=1)"
   ]
  },
  {
   "cell_type": "code",
<<<<<<< HEAD
   "execution_count": 26,
   "metadata": {},
   "outputs": [
    {
     "data": {
      "text/plain": [
       "array([['Water', '18.015', '100.0'],\n",
       "       ['Carbon Dioxide', '44.01', '-78.5'],\n",
       "       ['Methane', '16.04', '-161.5'],\n",
       "       ['Ethanol', '46.07', '78.3'],\n",
       "       ['Oxygen', '32.00', '-183.0'],\n",
       "       ['Nitrogen', '28.01', '-196.0'],\n",
       "       ['Hydrogen Peroxide', '34.01', '150.2'],\n",
       "       ['Ammonia', '17.03', '-33.3'],\n",
       "       ['Sulfuric Acid', '98.09', '337.0'],\n",
       "       ['Acetic Acid', '60.05', '118.1'],\n",
       "       ['Methanol', '32.04', '64.7'],\n",
       "       ['Benzene', '78.11', '80.1'],\n",
       "       ['Ethylene', '28.05', '-103.7'],\n",
       "       ['Propane', '44.10', '-42.1'],\n",
       "       ['Butane', '58.12', '-0.5'],\n",
       "       ['Pentane', '72.15', '36.1'],\n",
       "       ['Hexane', '86.18', '68.7'],\n",
       "       ['Heptane', '100.20', '98.4'],\n",
       "       ['Octane', '114.22', '125.7'],\n",
       "       ['Nonane', '128.25', '150.8'],\n",
       "       ['Decane', '142.28', '174.1'],\n",
       "       ['Caffeine', '194.19', '178.0'],\n",
       "       ['Ethane', '30.07', '-88.6']], dtype='<U17')"
      ]
     },
     "execution_count": 26,
     "metadata": {},
     "output_type": "execute_result"
    }
   ],
=======
   "execution_count": null,
   "metadata": {},
   "outputs": [],
>>>>>>> 52ffef64fad52b6491d809afbccad1b6693ccc6a
   "source": [
    "# As numpy arrays must be homogenously typed, i.e. we can't mix strings and floats. We\n",
    "# can pass the `dtype` argument to `np.loadtxt` to specify the data type of the array,\n",
    "# ensuring everything is loaded as strings. However, this perhaps isn't so useful as we\n",
    "# want the molecular weights as floats.\n",
    "np.loadtxt(file_path, delimiter=',', skiprows=1, dtype=str)"
   ]
  },
  {
   "cell_type": "code",
<<<<<<< HEAD
   "execution_count": 27,
   "metadata": {},
   "outputs": [
    {
     "name": "stdout",
     "output_type": "stream",
     "text": [
      "Names:\n",
      "['Water' 'Carbon Dioxide' 'Methane' 'Ethanol' 'Oxygen' 'Nitrogen'\n",
      " 'Hydrogen Peroxide' 'Ammonia' 'Sulfuric Acid' 'Acetic Acid' 'Methanol'\n",
      " 'Benzene' 'Ethylene' 'Propane' 'Butane' 'Pentane' 'Hexane' 'Heptane'\n",
      " 'Octane' 'Nonane' 'Decane' 'Caffeine' 'Ethane']\n",
      "Molecular Weights (g/mol):\n",
      "[ 18.015  44.01   16.04   46.07   32.     28.01   34.01   17.03   98.09\n",
      "  60.05   32.04   78.11   28.05   44.1    58.12   72.15   86.18  100.2\n",
      " 114.22  128.25  142.28  194.19   30.07 ]\n"
     ]
    }
   ],
=======
   "execution_count": null,
   "metadata": {},
   "outputs": [],
>>>>>>> 52ffef64fad52b6491d809afbccad1b6693ccc6a
   "source": [
    "# Instead, we can load the names as strings and the molecular weights as floats using\n",
    "# the `usecols` argument to specify which columns to load.\n",
    "names = np.loadtxt(file_path, delimiter=',', skiprows=1, usecols=[0], dtype=str)\n",
    "molecular_weights = np.loadtxt(file_path, delimiter=',', skiprows=1, usecols=[1], dtype=np.float64)\n",
    "\n",
    "print(\"Names:\")\n",
    "print(names)\n",
    "print(\"Molecular Weights (g/mol):\")\n",
    "print(molecular_weights)"
   ]
  },
  {
   "cell_type": "markdown",
   "metadata": {},
   "source": [
    "Let's do some basic statistical analysis on the molecular weight data, by finding the\n",
    "range of values, and the mean and standard deviation.\n",
    "\n",
    "For the mean and standard deviation, perform a Google search to identify the appropriate\n",
    "numpy functions to use here."
   ]
  },
  {
   "cell_type": "code",
<<<<<<< HEAD
   "execution_count": 29,
   "metadata": {},
   "outputs": [
    {
     "name": "stdout",
     "output_type": "stream",
     "text": [
      "Max: 194.19, Min: 16.04, Mean: 65.27326086956522, Std: 45.39299739158912\n"
     ]
    }
   ],
=======
   "execution_count": null,
   "metadata": {},
   "outputs": [],
>>>>>>> 52ffef64fad52b6491d809afbccad1b6693ccc6a
   "source": [
    "# TODO: find the mean and standard deviation of the molecular weights\n",
    "\n",
    "max_value = np.max(molecular_weights)\n",
    "min_value = np.min(molecular_weights)\n",
<<<<<<< HEAD
    "mean_value = np.mean(molecular_weights) # your code here\n",
    "std_value = np.std(molecular_weights)  # your code here\n",
=======
    "mean_value = ... # your code here\n",
    "std_value = ...  # your code here\n",
>>>>>>> 52ffef64fad52b6491d809afbccad1b6693ccc6a
    "\n",
    "print(f\"Max: {max_value}, Min: {min_value}, Mean: {mean_value}, Std: {std_value}\")"
   ]
  },
  {
   "cell_type": "code",
<<<<<<< HEAD
   "execution_count": 30,
   "metadata": {},
   "outputs": [
    {
     "name": "stdout",
     "output_type": "stream",
     "text": [
      "The molecule with the highest molecular weight is: Caffeine with a weight of 194.19\n"
     ]
    }
   ],
=======
   "execution_count": null,
   "metadata": {},
   "outputs": [],
>>>>>>> 52ffef64fad52b6491d809afbccad1b6693ccc6a
   "source": [
    "# Which molecule has the highest molecular weight? We want to find the index in the\n",
    "# `names` array where the maximum value in `molecular_weights` is located.\n",
    "\n",
    "# We can use the `np.argmax` function to find the index of the maximum value in an\n",
    "# array.\n",
    "max_index = np.argmax(molecular_weights)\n",
    "\n",
    "print(f\"The molecule with the highest molecular weight is: {names[max_index]} with a weight of {molecular_weights[max_index]}\")"
   ]
  },
  {
   "cell_type": "markdown",
   "metadata": {},
   "source": [
    "## 2. Data handling with `pandas`\n",
    "\n",
    "**What it is**: Pandas is a library providing high-level data structures and tools designed to make data analysis fast and easy in Python. Its primary data structure is the DataFrame, which allows you to store and manipulate tabular data in rows of observations and columns of variables.\n",
    "\n",
    "**Why it's used**: Pandas is used for data cleaning, transformation, and analysis. It offers data structures with a lot of flexibility and functionality, as well as the means to efficiently handle missing data, merge datasets, and perform complex data aggregations.\n",
    "\n",
    "**Usefulness in Chemical Sciences**: For chemists, pandas is invaluable for manipulating\n",
    "and analyzing experimental datasets, such as spectroscopy data or chemical properties of\n",
    "compounds. It simplifies tasks such as filtering data, performing statistical analyses,\n",
    "and working with time-series data from instrumental measurements.\n",
    "\n",
    "\n",
    "### Basics\n",
    "\n",
    "Pandas has two main data structures: Series and DataFrame. A Series is essentially a\n",
    "column, while a DataFrame is a multi-dimensional table made up of a collection of\n",
    "Series.\n",
    "\n",
    "A Series in pandas is one of the core data structures in the Python pandas library. It\n",
    "represents a one-dimensional array-like object containing a sequence of values and an\n",
    "associated array of data labels, called its index. The Series can hold any data\n",
    "type—integers, strings, floating point numbers, Python objects, and so on. It’s similar\n",
    "to a column in a spreadsheet or a table in a database."
   ]
  },
  {
   "cell_type": "code",
<<<<<<< HEAD
   "execution_count": 31,
   "metadata": {},
   "outputs": [
    {
     "data": {
      "text/plain": [
       "0              Water\n",
       "1            Ethanol\n",
       "2            Glucose\n",
       "3    Sodium Chloride\n",
       "4            Methane\n",
       "dtype: object"
      ]
     },
     "execution_count": 31,
     "metadata": {},
     "output_type": "execute_result"
    }
   ],
=======
   "execution_count": null,
   "metadata": {},
   "outputs": [],
>>>>>>> 52ffef64fad52b6491d809afbccad1b6693ccc6a
   "source": [
    "compounds = pd.Series([\"Water\", \"Ethanol\", \"Glucose\", \"Sodium Chloride\", \"Methane\"])\n",
    "compounds"
   ]
  },
  {
   "cell_type": "markdown",
   "metadata": {},
   "source": [
    "A DataFrame is a two-dimensional, size-mutable, potentially heterogeneous tabular data\n",
    "structure with labeled axes (rows and columns). For a chemistry application, let’s\n",
    "consider a simple example where we have a dataset of several compounds with their\n",
    "molecular weights and melting points."
   ]
  },
  {
   "cell_type": "code",
<<<<<<< HEAD
   "execution_count": 32,
   "metadata": {},
   "outputs": [
    {
     "data": {
      "text/html": [
       "<div>\n",
       "<style scoped>\n",
       "    .dataframe tbody tr th:only-of-type {\n",
       "        vertical-align: middle;\n",
       "    }\n",
       "\n",
       "    .dataframe tbody tr th {\n",
       "        vertical-align: top;\n",
       "    }\n",
       "\n",
       "    .dataframe thead th {\n",
       "        text-align: right;\n",
       "    }\n",
       "</style>\n",
       "<table border=\"1\" class=\"dataframe\">\n",
       "  <thead>\n",
       "    <tr style=\"text-align: right;\">\n",
       "      <th></th>\n",
       "      <th>Compound</th>\n",
       "      <th>Molecular Weight</th>\n",
       "      <th>Melting Point (°C)</th>\n",
       "    </tr>\n",
       "  </thead>\n",
       "  <tbody>\n",
       "    <tr>\n",
       "      <th>0</th>\n",
       "      <td>Water</td>\n",
       "      <td>18.015</td>\n",
       "      <td>0.0</td>\n",
       "    </tr>\n",
       "    <tr>\n",
       "      <th>1</th>\n",
       "      <td>Ethanol</td>\n",
       "      <td>46.070</td>\n",
       "      <td>-114.1</td>\n",
       "    </tr>\n",
       "    <tr>\n",
       "      <th>2</th>\n",
       "      <td>Glucose</td>\n",
       "      <td>180.160</td>\n",
       "      <td>146.0</td>\n",
       "    </tr>\n",
       "    <tr>\n",
       "      <th>3</th>\n",
       "      <td>Sodium Chloride</td>\n",
       "      <td>58.440</td>\n",
       "      <td>801.0</td>\n",
       "    </tr>\n",
       "    <tr>\n",
       "      <th>4</th>\n",
       "      <td>Methane</td>\n",
       "      <td>16.040</td>\n",
       "      <td>-182.5</td>\n",
       "    </tr>\n",
       "  </tbody>\n",
       "</table>\n",
       "</div>"
      ],
      "text/plain": [
       "          Compound  Molecular Weight  Melting Point (°C)\n",
       "0            Water            18.015                 0.0\n",
       "1          Ethanol            46.070              -114.1\n",
       "2          Glucose           180.160               146.0\n",
       "3  Sodium Chloride            58.440               801.0\n",
       "4          Methane            16.040              -182.5"
      ]
     },
     "execution_count": 32,
     "metadata": {},
     "output_type": "execute_result"
    }
   ],
=======
   "execution_count": null,
   "metadata": {},
   "outputs": [],
>>>>>>> 52ffef64fad52b6491d809afbccad1b6693ccc6a
   "source": [
    "data = {\n",
    "    \"Compound\": [\"Water\", \"Ethanol\", \"Glucose\", \"Sodium Chloride\", \"Methane\"],\n",
    "    \"Molecular Weight\": [18.015, 46.07, 180.16, 58.44, 16.04],\n",
    "    \"Melting Point (°C)\": [0, -114.1, 146, 801, -182.5]\n",
    "}\n",
    "df = pd.DataFrame(data)\n",
    "df"
   ]
  },
  {
   "cell_type": "markdown",
   "metadata": {},
   "source": [
    "A `DataFrame` can also be created by reading in data from file"
   ]
  },
  {
   "cell_type": "code",
<<<<<<< HEAD
   "execution_count": 33,
   "metadata": {},
   "outputs": [
    {
     "data": {
      "text/html": [
       "<div>\n",
       "<style scoped>\n",
       "    .dataframe tbody tr th:only-of-type {\n",
       "        vertical-align: middle;\n",
       "    }\n",
       "\n",
       "    .dataframe tbody tr th {\n",
       "        vertical-align: top;\n",
       "    }\n",
       "\n",
       "    .dataframe thead th {\n",
       "        text-align: right;\n",
       "    }\n",
       "</style>\n",
       "<table border=\"1\" class=\"dataframe\">\n",
       "  <thead>\n",
       "    <tr style=\"text-align: right;\">\n",
       "      <th></th>\n",
       "      <th># Compound Name</th>\n",
       "      <th>Molecular Weight (g/mol)</th>\n",
       "      <th>Boiling Point (°C)</th>\n",
       "    </tr>\n",
       "  </thead>\n",
       "  <tbody>\n",
       "    <tr>\n",
       "      <th>0</th>\n",
       "      <td>Water</td>\n",
       "      <td>18.015</td>\n",
       "      <td>100.0</td>\n",
       "    </tr>\n",
       "    <tr>\n",
       "      <th>1</th>\n",
       "      <td>Carbon Dioxide</td>\n",
       "      <td>44.010</td>\n",
       "      <td>-78.5</td>\n",
       "    </tr>\n",
       "    <tr>\n",
       "      <th>2</th>\n",
       "      <td>Methane</td>\n",
       "      <td>16.040</td>\n",
       "      <td>-161.5</td>\n",
       "    </tr>\n",
       "    <tr>\n",
       "      <th>3</th>\n",
       "      <td>Ethanol</td>\n",
       "      <td>46.070</td>\n",
       "      <td>78.3</td>\n",
       "    </tr>\n",
       "    <tr>\n",
       "      <th>4</th>\n",
       "      <td>Oxygen</td>\n",
       "      <td>32.000</td>\n",
       "      <td>-183.0</td>\n",
       "    </tr>\n",
       "    <tr>\n",
       "      <th>5</th>\n",
       "      <td>Nitrogen</td>\n",
       "      <td>28.010</td>\n",
       "      <td>-196.0</td>\n",
       "    </tr>\n",
       "    <tr>\n",
       "      <th>6</th>\n",
       "      <td>Hydrogen Peroxide</td>\n",
       "      <td>34.010</td>\n",
       "      <td>150.2</td>\n",
       "    </tr>\n",
       "    <tr>\n",
       "      <th>7</th>\n",
       "      <td>Ammonia</td>\n",
       "      <td>17.030</td>\n",
       "      <td>-33.3</td>\n",
       "    </tr>\n",
       "    <tr>\n",
       "      <th>8</th>\n",
       "      <td>Sulfuric Acid</td>\n",
       "      <td>98.090</td>\n",
       "      <td>337.0</td>\n",
       "    </tr>\n",
       "    <tr>\n",
       "      <th>9</th>\n",
       "      <td>Acetic Acid</td>\n",
       "      <td>60.050</td>\n",
       "      <td>118.1</td>\n",
       "    </tr>\n",
       "    <tr>\n",
       "      <th>10</th>\n",
       "      <td>Methanol</td>\n",
       "      <td>32.040</td>\n",
       "      <td>64.7</td>\n",
       "    </tr>\n",
       "    <tr>\n",
       "      <th>11</th>\n",
       "      <td>Benzene</td>\n",
       "      <td>78.110</td>\n",
       "      <td>80.1</td>\n",
       "    </tr>\n",
       "    <tr>\n",
       "      <th>12</th>\n",
       "      <td>Ethylene</td>\n",
       "      <td>28.050</td>\n",
       "      <td>-103.7</td>\n",
       "    </tr>\n",
       "    <tr>\n",
       "      <th>13</th>\n",
       "      <td>Propane</td>\n",
       "      <td>44.100</td>\n",
       "      <td>-42.1</td>\n",
       "    </tr>\n",
       "    <tr>\n",
       "      <th>14</th>\n",
       "      <td>Butane</td>\n",
       "      <td>58.120</td>\n",
       "      <td>-0.5</td>\n",
       "    </tr>\n",
       "    <tr>\n",
       "      <th>15</th>\n",
       "      <td>Pentane</td>\n",
       "      <td>72.150</td>\n",
       "      <td>36.1</td>\n",
       "    </tr>\n",
       "    <tr>\n",
       "      <th>16</th>\n",
       "      <td>Hexane</td>\n",
       "      <td>86.180</td>\n",
       "      <td>68.7</td>\n",
       "    </tr>\n",
       "    <tr>\n",
       "      <th>17</th>\n",
       "      <td>Heptane</td>\n",
       "      <td>100.200</td>\n",
       "      <td>98.4</td>\n",
       "    </tr>\n",
       "    <tr>\n",
       "      <th>18</th>\n",
       "      <td>Octane</td>\n",
       "      <td>114.220</td>\n",
       "      <td>125.7</td>\n",
       "    </tr>\n",
       "    <tr>\n",
       "      <th>19</th>\n",
       "      <td>Nonane</td>\n",
       "      <td>128.250</td>\n",
       "      <td>150.8</td>\n",
       "    </tr>\n",
       "    <tr>\n",
       "      <th>20</th>\n",
       "      <td>Decane</td>\n",
       "      <td>142.280</td>\n",
       "      <td>174.1</td>\n",
       "    </tr>\n",
       "    <tr>\n",
       "      <th>21</th>\n",
       "      <td>Caffeine</td>\n",
       "      <td>194.190</td>\n",
       "      <td>178.0</td>\n",
       "    </tr>\n",
       "    <tr>\n",
       "      <th>22</th>\n",
       "      <td>Ethane</td>\n",
       "      <td>30.070</td>\n",
       "      <td>-88.6</td>\n",
       "    </tr>\n",
       "  </tbody>\n",
       "</table>\n",
       "</div>"
      ],
      "text/plain": [
       "      # Compound Name  Molecular Weight (g/mol)  Boiling Point (°C)\n",
       "0               Water                    18.015               100.0\n",
       "1      Carbon Dioxide                    44.010               -78.5\n",
       "2             Methane                    16.040              -161.5\n",
       "3             Ethanol                    46.070                78.3\n",
       "4              Oxygen                    32.000              -183.0\n",
       "5            Nitrogen                    28.010              -196.0\n",
       "6   Hydrogen Peroxide                    34.010               150.2\n",
       "7             Ammonia                    17.030               -33.3\n",
       "8       Sulfuric Acid                    98.090               337.0\n",
       "9         Acetic Acid                    60.050               118.1\n",
       "10           Methanol                    32.040                64.7\n",
       "11            Benzene                    78.110                80.1\n",
       "12           Ethylene                    28.050              -103.7\n",
       "13            Propane                    44.100               -42.1\n",
       "14             Butane                    58.120                -0.5\n",
       "15            Pentane                    72.150                36.1\n",
       "16             Hexane                    86.180                68.7\n",
       "17            Heptane                   100.200                98.4\n",
       "18             Octane                   114.220               125.7\n",
       "19             Nonane                   128.250               150.8\n",
       "20             Decane                   142.280               174.1\n",
       "21           Caffeine                   194.190               178.0\n",
       "22             Ethane                    30.070               -88.6"
      ]
     },
     "execution_count": 33,
     "metadata": {},
     "output_type": "execute_result"
    }
   ],
=======
   "execution_count": null,
   "metadata": {},
   "outputs": [],
>>>>>>> 52ffef64fad52b6491d809afbccad1b6693ccc6a
   "source": [
    "# Read from the molecular_weights.txt file from before\n",
    "df = pd.read_csv(file_path, )\n",
    "df"
   ]
  },
  {
   "cell_type": "code",
<<<<<<< HEAD
   "execution_count": 34,
   "metadata": {},
   "outputs": [
    {
     "data": {
      "text/plain": [
       "Index(['# Compound Name', 'Molecular Weight (g/mol)', 'Boiling Point (°C)'], dtype='object')"
      ]
     },
     "execution_count": 34,
     "metadata": {},
     "output_type": "execute_result"
    }
   ],
=======
   "execution_count": null,
   "metadata": {},
   "outputs": [],
>>>>>>> 52ffef64fad52b6491d809afbccad1b6693ccc6a
   "source": [
    "df.columns"
   ]
  },
  {
   "cell_type": "code",
<<<<<<< HEAD
   "execution_count": 35,
   "metadata": {},
   "outputs": [
    {
     "data": {
      "text/plain": [
       "0      18.015\n",
       "1      44.010\n",
       "2      16.040\n",
       "3      46.070\n",
       "4      32.000\n",
       "5      28.010\n",
       "6      34.010\n",
       "7      17.030\n",
       "8      98.090\n",
       "9      60.050\n",
       "10     32.040\n",
       "11     78.110\n",
       "12     28.050\n",
       "13     44.100\n",
       "14     58.120\n",
       "15     72.150\n",
       "16     86.180\n",
       "17    100.200\n",
       "18    114.220\n",
       "19    128.250\n",
       "20    142.280\n",
       "21    194.190\n",
       "22     30.070\n",
       "Name: Molecular Weight (g/mol), dtype: float64"
      ]
     },
     "execution_count": 35,
     "metadata": {},
     "output_type": "execute_result"
    }
   ],
=======
   "execution_count": null,
   "metadata": {},
   "outputs": [],
>>>>>>> 52ffef64fad52b6491d809afbccad1b6693ccc6a
   "source": [
    "# If we want to access a single column, we can use the column name as an attribute\n",
    "df[\"Molecular Weight (g/mol)\"]"
   ]
  },
  {
   "cell_type": "markdown",
   "metadata": {},
   "source": [
    "However, inclusion of the units in the column name may make it pretty inconvenient to\n",
    "reference over and over again.\n",
    "\n",
    "We can instead load the data with custom column names:"
   ]
  },
  {
   "cell_type": "code",
<<<<<<< HEAD
   "execution_count": 36,
   "metadata": {},
   "outputs": [
    {
     "data": {
      "text/html": [
       "<div>\n",
       "<style scoped>\n",
       "    .dataframe tbody tr th:only-of-type {\n",
       "        vertical-align: middle;\n",
       "    }\n",
       "\n",
       "    .dataframe tbody tr th {\n",
       "        vertical-align: top;\n",
       "    }\n",
       "\n",
       "    .dataframe thead th {\n",
       "        text-align: right;\n",
       "    }\n",
       "</style>\n",
       "<table border=\"1\" class=\"dataframe\">\n",
       "  <thead>\n",
       "    <tr style=\"text-align: right;\">\n",
       "      <th></th>\n",
       "      <th>molecule</th>\n",
       "      <th>weight</th>\n",
       "      <th>boiling_point_celsius</th>\n",
       "    </tr>\n",
       "  </thead>\n",
       "  <tbody>\n",
       "    <tr>\n",
       "      <th>0</th>\n",
       "      <td>Water</td>\n",
       "      <td>18.015</td>\n",
       "      <td>100.0</td>\n",
       "    </tr>\n",
       "    <tr>\n",
       "      <th>1</th>\n",
       "      <td>Carbon Dioxide</td>\n",
       "      <td>44.010</td>\n",
       "      <td>-78.5</td>\n",
       "    </tr>\n",
       "    <tr>\n",
       "      <th>2</th>\n",
       "      <td>Methane</td>\n",
       "      <td>16.040</td>\n",
       "      <td>-161.5</td>\n",
       "    </tr>\n",
       "    <tr>\n",
       "      <th>3</th>\n",
       "      <td>Ethanol</td>\n",
       "      <td>46.070</td>\n",
       "      <td>78.3</td>\n",
       "    </tr>\n",
       "    <tr>\n",
       "      <th>4</th>\n",
       "      <td>Oxygen</td>\n",
       "      <td>32.000</td>\n",
       "      <td>-183.0</td>\n",
       "    </tr>\n",
       "    <tr>\n",
       "      <th>5</th>\n",
       "      <td>Nitrogen</td>\n",
       "      <td>28.010</td>\n",
       "      <td>-196.0</td>\n",
       "    </tr>\n",
       "    <tr>\n",
       "      <th>6</th>\n",
       "      <td>Hydrogen Peroxide</td>\n",
       "      <td>34.010</td>\n",
       "      <td>150.2</td>\n",
       "    </tr>\n",
       "    <tr>\n",
       "      <th>7</th>\n",
       "      <td>Ammonia</td>\n",
       "      <td>17.030</td>\n",
       "      <td>-33.3</td>\n",
       "    </tr>\n",
       "    <tr>\n",
       "      <th>8</th>\n",
       "      <td>Sulfuric Acid</td>\n",
       "      <td>98.090</td>\n",
       "      <td>337.0</td>\n",
       "    </tr>\n",
       "    <tr>\n",
       "      <th>9</th>\n",
       "      <td>Acetic Acid</td>\n",
       "      <td>60.050</td>\n",
       "      <td>118.1</td>\n",
       "    </tr>\n",
       "    <tr>\n",
       "      <th>10</th>\n",
       "      <td>Methanol</td>\n",
       "      <td>32.040</td>\n",
       "      <td>64.7</td>\n",
       "    </tr>\n",
       "    <tr>\n",
       "      <th>11</th>\n",
       "      <td>Benzene</td>\n",
       "      <td>78.110</td>\n",
       "      <td>80.1</td>\n",
       "    </tr>\n",
       "    <tr>\n",
       "      <th>12</th>\n",
       "      <td>Ethylene</td>\n",
       "      <td>28.050</td>\n",
       "      <td>-103.7</td>\n",
       "    </tr>\n",
       "    <tr>\n",
       "      <th>13</th>\n",
       "      <td>Propane</td>\n",
       "      <td>44.100</td>\n",
       "      <td>-42.1</td>\n",
       "    </tr>\n",
       "    <tr>\n",
       "      <th>14</th>\n",
       "      <td>Butane</td>\n",
       "      <td>58.120</td>\n",
       "      <td>-0.5</td>\n",
       "    </tr>\n",
       "    <tr>\n",
       "      <th>15</th>\n",
       "      <td>Pentane</td>\n",
       "      <td>72.150</td>\n",
       "      <td>36.1</td>\n",
       "    </tr>\n",
       "    <tr>\n",
       "      <th>16</th>\n",
       "      <td>Hexane</td>\n",
       "      <td>86.180</td>\n",
       "      <td>68.7</td>\n",
       "    </tr>\n",
       "    <tr>\n",
       "      <th>17</th>\n",
       "      <td>Heptane</td>\n",
       "      <td>100.200</td>\n",
       "      <td>98.4</td>\n",
       "    </tr>\n",
       "    <tr>\n",
       "      <th>18</th>\n",
       "      <td>Octane</td>\n",
       "      <td>114.220</td>\n",
       "      <td>125.7</td>\n",
       "    </tr>\n",
       "    <tr>\n",
       "      <th>19</th>\n",
       "      <td>Nonane</td>\n",
       "      <td>128.250</td>\n",
       "      <td>150.8</td>\n",
       "    </tr>\n",
       "    <tr>\n",
       "      <th>20</th>\n",
       "      <td>Decane</td>\n",
       "      <td>142.280</td>\n",
       "      <td>174.1</td>\n",
       "    </tr>\n",
       "    <tr>\n",
       "      <th>21</th>\n",
       "      <td>Caffeine</td>\n",
       "      <td>194.190</td>\n",
       "      <td>178.0</td>\n",
       "    </tr>\n",
       "    <tr>\n",
       "      <th>22</th>\n",
       "      <td>Ethane</td>\n",
       "      <td>30.070</td>\n",
       "      <td>-88.6</td>\n",
       "    </tr>\n",
       "  </tbody>\n",
       "</table>\n",
       "</div>"
      ],
      "text/plain": [
       "             molecule   weight  boiling_point_celsius\n",
       "0               Water   18.015                  100.0\n",
       "1      Carbon Dioxide   44.010                  -78.5\n",
       "2             Methane   16.040                 -161.5\n",
       "3             Ethanol   46.070                   78.3\n",
       "4              Oxygen   32.000                 -183.0\n",
       "5            Nitrogen   28.010                 -196.0\n",
       "6   Hydrogen Peroxide   34.010                  150.2\n",
       "7             Ammonia   17.030                  -33.3\n",
       "8       Sulfuric Acid   98.090                  337.0\n",
       "9         Acetic Acid   60.050                  118.1\n",
       "10           Methanol   32.040                   64.7\n",
       "11            Benzene   78.110                   80.1\n",
       "12           Ethylene   28.050                 -103.7\n",
       "13            Propane   44.100                  -42.1\n",
       "14             Butane   58.120                   -0.5\n",
       "15            Pentane   72.150                   36.1\n",
       "16             Hexane   86.180                   68.7\n",
       "17            Heptane  100.200                   98.4\n",
       "18             Octane  114.220                  125.7\n",
       "19             Nonane  128.250                  150.8\n",
       "20             Decane  142.280                  174.1\n",
       "21           Caffeine  194.190                  178.0\n",
       "22             Ethane   30.070                  -88.6"
      ]
     },
     "execution_count": 36,
     "metadata": {},
     "output_type": "execute_result"
    }
   ],
=======
   "execution_count": null,
   "metadata": {},
   "outputs": [],
>>>>>>> 52ffef64fad52b6491d809afbccad1b6693ccc6a
   "source": [
    "# Load the data again, but this time specify the column names\n",
    "df = pd.read_csv(file_path, names=[\"molecule\", \"weight\", \"boiling_point_celsius\"], skiprows=1)\n",
    "df"
   ]
  },
  {
   "cell_type": "code",
<<<<<<< HEAD
   "execution_count": 37,
   "metadata": {},
   "outputs": [
    {
     "data": {
      "text/plain": [
       "0      18.015\n",
       "1      44.010\n",
       "2      16.040\n",
       "3      46.070\n",
       "4      32.000\n",
       "5      28.010\n",
       "6      34.010\n",
       "7      17.030\n",
       "8      98.090\n",
       "9      60.050\n",
       "10     32.040\n",
       "11     78.110\n",
       "12     28.050\n",
       "13     44.100\n",
       "14     58.120\n",
       "15     72.150\n",
       "16     86.180\n",
       "17    100.200\n",
       "18    114.220\n",
       "19    128.250\n",
       "20    142.280\n",
       "21    194.190\n",
       "22     30.070\n",
       "Name: weight, dtype: float64"
      ]
     },
     "execution_count": 37,
     "metadata": {},
     "output_type": "execute_result"
    }
   ],
=======
   "execution_count": null,
   "metadata": {},
   "outputs": [],
>>>>>>> 52ffef64fad52b6491d809afbccad1b6693ccc6a
   "source": [
    "df[\"weight\"]"
   ]
  },
  {
   "cell_type": "markdown",
   "metadata": {},
   "source": [
    "### Data inspection\n",
    "\n",
    "Pandas provides numerous functions to quickly inspect your data:\n",
    "\n",
    "* `df.head()` displays the first few rows of the DataFrame.\n",
    "* `df.describe()` gives a statistical summary of the numerical columns.\n",
    "* `df.dtypes` shows the data type of each column."
   ]
  },
  {
   "cell_type": "code",
<<<<<<< HEAD
   "execution_count": 38,
   "metadata": {},
   "outputs": [
    {
     "data": {
      "text/html": [
       "<div>\n",
       "<style scoped>\n",
       "    .dataframe tbody tr th:only-of-type {\n",
       "        vertical-align: middle;\n",
       "    }\n",
       "\n",
       "    .dataframe tbody tr th {\n",
       "        vertical-align: top;\n",
       "    }\n",
       "\n",
       "    .dataframe thead th {\n",
       "        text-align: right;\n",
       "    }\n",
       "</style>\n",
       "<table border=\"1\" class=\"dataframe\">\n",
       "  <thead>\n",
       "    <tr style=\"text-align: right;\">\n",
       "      <th></th>\n",
       "      <th>weight</th>\n",
       "      <th>boiling_point_celsius</th>\n",
       "    </tr>\n",
       "  </thead>\n",
       "  <tbody>\n",
       "    <tr>\n",
       "      <th>count</th>\n",
       "      <td>23.000000</td>\n",
       "      <td>23.000000</td>\n",
       "    </tr>\n",
       "    <tr>\n",
       "      <th>mean</th>\n",
       "      <td>65.273261</td>\n",
       "      <td>37.956522</td>\n",
       "    </tr>\n",
       "    <tr>\n",
       "      <th>std</th>\n",
       "      <td>46.413192</td>\n",
       "      <td>132.381971</td>\n",
       "    </tr>\n",
       "    <tr>\n",
       "      <th>min</th>\n",
       "      <td>16.040000</td>\n",
       "      <td>-196.000000</td>\n",
       "    </tr>\n",
       "    <tr>\n",
       "      <th>25%</th>\n",
       "      <td>31.035000</td>\n",
       "      <td>-60.300000</td>\n",
       "    </tr>\n",
       "    <tr>\n",
       "      <th>50%</th>\n",
       "      <td>46.070000</td>\n",
       "      <td>68.700000</td>\n",
       "    </tr>\n",
       "    <tr>\n",
       "      <th>75%</th>\n",
       "      <td>92.135000</td>\n",
       "      <td>121.900000</td>\n",
       "    </tr>\n",
       "    <tr>\n",
       "      <th>max</th>\n",
       "      <td>194.190000</td>\n",
       "      <td>337.000000</td>\n",
       "    </tr>\n",
       "  </tbody>\n",
       "</table>\n",
       "</div>"
      ],
      "text/plain": [
       "           weight  boiling_point_celsius\n",
       "count   23.000000              23.000000\n",
       "mean    65.273261              37.956522\n",
       "std     46.413192             132.381971\n",
       "min     16.040000            -196.000000\n",
       "25%     31.035000             -60.300000\n",
       "50%     46.070000              68.700000\n",
       "75%     92.135000             121.900000\n",
       "max    194.190000             337.000000"
      ]
     },
     "execution_count": 38,
     "metadata": {},
     "output_type": "execute_result"
    }
   ],
=======
   "execution_count": null,
   "metadata": {},
   "outputs": [],
>>>>>>> 52ffef64fad52b6491d809afbccad1b6693ccc6a
   "source": [
    "df.describe()"
   ]
  },
  {
   "cell_type": "markdown",
   "metadata": {},
   "source": [
    "### Indexing\n",
    "\n",
    "In pandas, .loc and .iloc are indexing operators used for selecting data from a\n",
    "DataFrame. While both are used for data selection, they differ in how they perform the\n",
    "selection:\n",
    "\n",
    "* `.loc` is label-based, meaning you use the labels of the rows and columns to select data.\n",
    "* `.iloc` is integer position-based, so you use integer indices to select data."
   ]
  },
  {
   "cell_type": "code",
<<<<<<< HEAD
   "execution_count": 39,
   "metadata": {},
   "outputs": [
    {
     "data": {
      "text/plain": [
       "molecule                 Carbon Dioxide\n",
       "weight                            44.01\n",
       "boiling_point_celsius             -78.5\n",
       "Name: 1, dtype: object"
      ]
     },
     "execution_count": 39,
     "metadata": {},
     "output_type": "execute_result"
    }
   ],
=======
   "execution_count": null,
   "metadata": {},
   "outputs": [],
>>>>>>> 52ffef64fad52b6491d809afbccad1b6693ccc6a
   "source": [
    "# Select the row for Carbon Dioxide (index 1)\n",
    "df.loc[1]"
   ]
  },
  {
   "cell_type": "code",
<<<<<<< HEAD
   "execution_count": 40,
   "metadata": {},
   "outputs": [
    {
     "data": {
      "text/html": [
       "<div>\n",
       "<style scoped>\n",
       "    .dataframe tbody tr th:only-of-type {\n",
       "        vertical-align: middle;\n",
       "    }\n",
       "\n",
       "    .dataframe tbody tr th {\n",
       "        vertical-align: top;\n",
       "    }\n",
       "\n",
       "    .dataframe thead th {\n",
       "        text-align: right;\n",
       "    }\n",
       "</style>\n",
       "<table border=\"1\" class=\"dataframe\">\n",
       "  <thead>\n",
       "    <tr style=\"text-align: right;\">\n",
       "      <th></th>\n",
       "      <th>molecule</th>\n",
       "      <th>weight</th>\n",
       "      <th>boiling_point_celsius</th>\n",
       "    </tr>\n",
       "  </thead>\n",
       "  <tbody>\n",
       "    <tr>\n",
       "      <th>0</th>\n",
       "      <td>Water</td>\n",
       "      <td>18.015</td>\n",
       "      <td>100.0</td>\n",
       "    </tr>\n",
       "    <tr>\n",
       "      <th>10</th>\n",
       "      <td>Methanol</td>\n",
       "      <td>32.040</td>\n",
       "      <td>64.7</td>\n",
       "    </tr>\n",
       "  </tbody>\n",
       "</table>\n",
       "</div>"
      ],
      "text/plain": [
       "    molecule  weight  boiling_point_celsius\n",
       "0      Water  18.015                  100.0\n",
       "10  Methanol  32.040                   64.7"
      ]
     },
     "execution_count": 40,
     "metadata": {},
     "output_type": "execute_result"
    }
   ],
=======
   "execution_count": null,
   "metadata": {},
   "outputs": [],
>>>>>>> 52ffef64fad52b6491d809afbccad1b6693ccc6a
   "source": [
    "# Select rows for Water and Methanol\n",
    "df.loc[[0, 10]]"
   ]
  },
  {
   "cell_type": "code",
<<<<<<< HEAD
   "execution_count": 41,
   "metadata": {},
   "outputs": [
    {
     "data": {
      "text/html": [
       "<div>\n",
       "<style scoped>\n",
       "    .dataframe tbody tr th:only-of-type {\n",
       "        vertical-align: middle;\n",
       "    }\n",
       "\n",
       "    .dataframe tbody tr th {\n",
       "        vertical-align: top;\n",
       "    }\n",
       "\n",
       "    .dataframe thead th {\n",
       "        text-align: right;\n",
       "    }\n",
       "</style>\n",
       "<table border=\"1\" class=\"dataframe\">\n",
       "  <thead>\n",
       "    <tr style=\"text-align: right;\">\n",
       "      <th></th>\n",
       "      <th>molecule</th>\n",
       "      <th>weight</th>\n",
       "      <th>boiling_point_celsius</th>\n",
       "    </tr>\n",
       "  </thead>\n",
       "  <tbody>\n",
       "    <tr>\n",
       "      <th>0</th>\n",
       "      <td>Water</td>\n",
       "      <td>18.015</td>\n",
       "      <td>100.0</td>\n",
       "    </tr>\n",
       "    <tr>\n",
       "      <th>2</th>\n",
       "      <td>Methane</td>\n",
       "      <td>16.040</td>\n",
       "      <td>-161.5</td>\n",
       "    </tr>\n",
       "  </tbody>\n",
       "</table>\n",
       "</div>"
      ],
      "text/plain": [
       "  molecule  weight  boiling_point_celsius\n",
       "0    Water  18.015                  100.0\n",
       "2  Methane  16.040                 -161.5"
      ]
     },
     "execution_count": 41,
     "metadata": {},
     "output_type": "execute_result"
    }
   ],
=======
   "execution_count": null,
   "metadata": {},
   "outputs": [],
>>>>>>> 52ffef64fad52b6491d809afbccad1b6693ccc6a
   "source": [
    "# Select rows for Water and Methane\n",
    "df.iloc[[0, 2]]"
   ]
  },
  {
   "cell_type": "code",
<<<<<<< HEAD
   "execution_count": 42,
   "metadata": {},
   "outputs": [
    {
     "data": {
      "text/html": [
       "<div>\n",
       "<style scoped>\n",
       "    .dataframe tbody tr th:only-of-type {\n",
       "        vertical-align: middle;\n",
       "    }\n",
       "\n",
       "    .dataframe tbody tr th {\n",
       "        vertical-align: top;\n",
       "    }\n",
       "\n",
       "    .dataframe thead th {\n",
       "        text-align: right;\n",
       "    }\n",
       "</style>\n",
       "<table border=\"1\" class=\"dataframe\">\n",
       "  <thead>\n",
       "    <tr style=\"text-align: right;\">\n",
       "      <th></th>\n",
       "      <th>weight</th>\n",
       "      <th>boiling_point_celsius</th>\n",
       "    </tr>\n",
       "  </thead>\n",
       "  <tbody>\n",
       "    <tr>\n",
       "      <th>1</th>\n",
       "      <td>44.01</td>\n",
       "      <td>-78.5</td>\n",
       "    </tr>\n",
       "    <tr>\n",
       "      <th>2</th>\n",
       "      <td>16.04</td>\n",
       "      <td>-161.5</td>\n",
       "    </tr>\n",
       "  </tbody>\n",
       "</table>\n",
       "</div>"
      ],
      "text/plain": [
       "   weight  boiling_point_celsius\n",
       "1   44.01                  -78.5\n",
       "2   16.04                 -161.5"
      ]
     },
     "execution_count": 42,
     "metadata": {},
     "output_type": "execute_result"
    }
   ],
=======
   "execution_count": null,
   "metadata": {},
   "outputs": [],
>>>>>>> 52ffef64fad52b6491d809afbccad1b6693ccc6a
   "source": [
    "# Select the Molecular Weight and Melting Point for Carbon Dioxide and Methane\n",
    "df.iloc[[1, 2], [1, 2]]"
   ]
  },
  {
   "cell_type": "code",
<<<<<<< HEAD
   "execution_count": 43,
   "metadata": {},
   "outputs": [
    {
     "data": {
      "text/html": [
       "<div>\n",
       "<style scoped>\n",
       "    .dataframe tbody tr th:only-of-type {\n",
       "        vertical-align: middle;\n",
       "    }\n",
       "\n",
       "    .dataframe tbody tr th {\n",
       "        vertical-align: top;\n",
       "    }\n",
       "\n",
       "    .dataframe thead th {\n",
       "        text-align: right;\n",
       "    }\n",
       "</style>\n",
       "<table border=\"1\" class=\"dataframe\">\n",
       "  <thead>\n",
       "    <tr style=\"text-align: right;\">\n",
       "      <th></th>\n",
       "      <th>molecule</th>\n",
       "      <th>weight</th>\n",
       "      <th>boiling_point_celsius</th>\n",
       "    </tr>\n",
       "  </thead>\n",
       "  <tbody>\n",
       "    <tr>\n",
       "      <th>0</th>\n",
       "      <td>Water</td>\n",
       "      <td>18.015</td>\n",
       "      <td>100.0</td>\n",
       "    </tr>\n",
       "  </tbody>\n",
       "</table>\n",
       "</div>"
      ],
      "text/plain": [
       "  molecule  weight  boiling_point_celsius\n",
       "0    Water  18.015                  100.0"
      ]
     },
     "execution_count": 43,
     "metadata": {},
     "output_type": "execute_result"
    }
   ],
=======
   "execution_count": null,
   "metadata": {},
   "outputs": [],
>>>>>>> 52ffef64fad52b6491d809afbccad1b6693ccc6a
   "source": [
    "# Select the row for water\n",
    "df[df[\"molecule\"] == \"Water\"]"
   ]
  },
  {
   "cell_type": "code",
<<<<<<< HEAD
   "execution_count": 44,
   "metadata": {},
   "outputs": [
    {
     "data": {
      "text/html": [
       "<div>\n",
       "<style scoped>\n",
       "    .dataframe tbody tr th:only-of-type {\n",
       "        vertical-align: middle;\n",
       "    }\n",
       "\n",
       "    .dataframe tbody tr th {\n",
       "        vertical-align: top;\n",
       "    }\n",
       "\n",
       "    .dataframe thead th {\n",
       "        text-align: right;\n",
       "    }\n",
       "</style>\n",
       "<table border=\"1\" class=\"dataframe\">\n",
       "  <thead>\n",
       "    <tr style=\"text-align: right;\">\n",
       "      <th></th>\n",
       "      <th>molecule</th>\n",
       "      <th>weight</th>\n",
       "      <th>boiling_point_celsius</th>\n",
       "    </tr>\n",
       "  </thead>\n",
       "  <tbody>\n",
       "    <tr>\n",
       "      <th>2</th>\n",
       "      <td>Methane</td>\n",
       "      <td>16.04</td>\n",
       "      <td>-161.5</td>\n",
       "    </tr>\n",
       "    <tr>\n",
       "      <th>13</th>\n",
       "      <td>Propane</td>\n",
       "      <td>44.10</td>\n",
       "      <td>-42.1</td>\n",
       "    </tr>\n",
       "    <tr>\n",
       "      <th>14</th>\n",
       "      <td>Butane</td>\n",
       "      <td>58.12</td>\n",
       "      <td>-0.5</td>\n",
       "    </tr>\n",
       "    <tr>\n",
       "      <th>15</th>\n",
       "      <td>Pentane</td>\n",
       "      <td>72.15</td>\n",
       "      <td>36.1</td>\n",
       "    </tr>\n",
       "    <tr>\n",
       "      <th>16</th>\n",
       "      <td>Hexane</td>\n",
       "      <td>86.18</td>\n",
       "      <td>68.7</td>\n",
       "    </tr>\n",
       "    <tr>\n",
       "      <th>17</th>\n",
       "      <td>Heptane</td>\n",
       "      <td>100.20</td>\n",
       "      <td>98.4</td>\n",
       "    </tr>\n",
       "    <tr>\n",
       "      <th>18</th>\n",
       "      <td>Octane</td>\n",
       "      <td>114.22</td>\n",
       "      <td>125.7</td>\n",
       "    </tr>\n",
       "    <tr>\n",
       "      <th>19</th>\n",
       "      <td>Nonane</td>\n",
       "      <td>128.25</td>\n",
       "      <td>150.8</td>\n",
       "    </tr>\n",
       "    <tr>\n",
       "      <th>20</th>\n",
       "      <td>Decane</td>\n",
       "      <td>142.28</td>\n",
       "      <td>174.1</td>\n",
       "    </tr>\n",
       "    <tr>\n",
       "      <th>22</th>\n",
       "      <td>Ethane</td>\n",
       "      <td>30.07</td>\n",
       "      <td>-88.6</td>\n",
       "    </tr>\n",
       "  </tbody>\n",
       "</table>\n",
       "</div>"
      ],
      "text/plain": [
       "   molecule  weight  boiling_point_celsius\n",
       "2   Methane   16.04                 -161.5\n",
       "13  Propane   44.10                  -42.1\n",
       "14   Butane   58.12                   -0.5\n",
       "15  Pentane   72.15                   36.1\n",
       "16   Hexane   86.18                   68.7\n",
       "17  Heptane  100.20                   98.4\n",
       "18   Octane  114.22                  125.7\n",
       "19   Nonane  128.25                  150.8\n",
       "20   Decane  142.28                  174.1\n",
       "22   Ethane   30.07                  -88.6"
      ]
     },
     "execution_count": 44,
     "metadata": {},
     "output_type": "execute_result"
    }
   ],
=======
   "execution_count": null,
   "metadata": {},
   "outputs": [],
>>>>>>> 52ffef64fad52b6491d809afbccad1b6693ccc6a
   "source": [
    "# Select all the hydrocarbons\n",
    "hydrocarbons = [\n",
    "    \"Methane\",\n",
    "    \"Ethane\",\n",
    "    \"Propane\",\n",
    "    \"Butane\",\n",
    "    \"Pentane\",\n",
    "    \"Hexane\",\n",
    "    \"Heptane\",\n",
    "    \"Octane\",\n",
    "    \"Nonane\",\n",
    "    \"Decane\",\n",
    "]\n",
    "\n",
    "df[df[\"molecule\"].isin(hydrocarbons)]"
   ]
  },
  {
   "cell_type": "markdown",
   "metadata": {},
   "source": [
    "### Operations"
   ]
  },
  {
   "cell_type": "code",
<<<<<<< HEAD
   "execution_count": 45,
   "metadata": {},
   "outputs": [
    {
     "name": "stdout",
     "output_type": "stream",
     "text": [
      "Max molecular weight: 194.19\n",
      "Min molecular weight: 16.04\n",
      "Mean molecular weight (pandas): 65.27326086956522\n",
      "Mean molecular weight (numpy): 65.27326086956522\n",
      "Standard deviation of molecular weight (pandas): 46.413192129567285\n",
      "Standard deviation of molecular weight (numpy): 45.39299739158912\n"
     ]
    }
   ],
=======
   "execution_count": null,
   "metadata": {},
   "outputs": [],
>>>>>>> 52ffef64fad52b6491d809afbccad1b6693ccc6a
   "source": [
    "molecular_weights = df[\"weight\"]\n",
    "\n",
    "print(\"Max molecular weight:\", molecular_weights.max())\n",
    "print(\"Min molecular weight:\", molecular_weights.min())\n",
    "\n",
    "print(\"Mean molecular weight (pandas):\", molecular_weights.mean())\n",
    "print(\"Mean molecular weight (numpy):\", np.mean(molecular_weights))\n",
    "\n",
    "print(\"Standard deviation of molecular weight (pandas):\", molecular_weights.std())\n",
    "print(\"Standard deviation of molecular weight (numpy):\", np.std(molecular_weights))"
   ]
  },
  {
   "cell_type": "markdown",
   "metadata": {},
   "source": [
    "***Bonus:*** why are the standard deviations different between numpy and pandas? Have a\n",
    "read of the respective documentation to see how the expressions are normalized:\n",
    "\n",
    "* https://pandas.pydata.org/pandas-docs/stable/reference/api/pandas.DataFrame.std.html\n",
    "* https://numpy.org/doc/stable/reference/generated/numpy.std.html"
   ]
  },
  {
   "cell_type": "code",
<<<<<<< HEAD
   "execution_count": 46,
   "metadata": {},
   "outputs": [
    {
     "data": {
      "text/html": [
       "<div>\n",
       "<style scoped>\n",
       "    .dataframe tbody tr th:only-of-type {\n",
       "        vertical-align: middle;\n",
       "    }\n",
       "\n",
       "    .dataframe tbody tr th {\n",
       "        vertical-align: top;\n",
       "    }\n",
       "\n",
       "    .dataframe thead th {\n",
       "        text-align: right;\n",
       "    }\n",
       "</style>\n",
       "<table border=\"1\" class=\"dataframe\">\n",
       "  <thead>\n",
       "    <tr style=\"text-align: right;\">\n",
       "      <th></th>\n",
       "      <th>molecule</th>\n",
       "      <th>weight</th>\n",
       "      <th>boiling_point_celsius</th>\n",
       "      <th>boiling_point_kelvin</th>\n",
       "    </tr>\n",
       "  </thead>\n",
       "  <tbody>\n",
       "    <tr>\n",
       "      <th>0</th>\n",
       "      <td>Water</td>\n",
       "      <td>18.015</td>\n",
       "      <td>100.0</td>\n",
       "      <td>374.15</td>\n",
       "    </tr>\n",
       "    <tr>\n",
       "      <th>1</th>\n",
       "      <td>Carbon Dioxide</td>\n",
       "      <td>44.010</td>\n",
       "      <td>-78.5</td>\n",
       "      <td>195.65</td>\n",
       "    </tr>\n",
       "    <tr>\n",
       "      <th>2</th>\n",
       "      <td>Methane</td>\n",
       "      <td>16.040</td>\n",
       "      <td>-161.5</td>\n",
       "      <td>112.65</td>\n",
       "    </tr>\n",
       "    <tr>\n",
       "      <th>3</th>\n",
       "      <td>Ethanol</td>\n",
       "      <td>46.070</td>\n",
       "      <td>78.3</td>\n",
       "      <td>352.45</td>\n",
       "    </tr>\n",
       "    <tr>\n",
       "      <th>4</th>\n",
       "      <td>Oxygen</td>\n",
       "      <td>32.000</td>\n",
       "      <td>-183.0</td>\n",
       "      <td>91.15</td>\n",
       "    </tr>\n",
       "    <tr>\n",
       "      <th>5</th>\n",
       "      <td>Nitrogen</td>\n",
       "      <td>28.010</td>\n",
       "      <td>-196.0</td>\n",
       "      <td>78.15</td>\n",
       "    </tr>\n",
       "    <tr>\n",
       "      <th>6</th>\n",
       "      <td>Hydrogen Peroxide</td>\n",
       "      <td>34.010</td>\n",
       "      <td>150.2</td>\n",
       "      <td>424.35</td>\n",
       "    </tr>\n",
       "    <tr>\n",
       "      <th>7</th>\n",
       "      <td>Ammonia</td>\n",
       "      <td>17.030</td>\n",
       "      <td>-33.3</td>\n",
       "      <td>240.85</td>\n",
       "    </tr>\n",
       "    <tr>\n",
       "      <th>8</th>\n",
       "      <td>Sulfuric Acid</td>\n",
       "      <td>98.090</td>\n",
       "      <td>337.0</td>\n",
       "      <td>611.15</td>\n",
       "    </tr>\n",
       "    <tr>\n",
       "      <th>9</th>\n",
       "      <td>Acetic Acid</td>\n",
       "      <td>60.050</td>\n",
       "      <td>118.1</td>\n",
       "      <td>392.25</td>\n",
       "    </tr>\n",
       "    <tr>\n",
       "      <th>10</th>\n",
       "      <td>Methanol</td>\n",
       "      <td>32.040</td>\n",
       "      <td>64.7</td>\n",
       "      <td>338.85</td>\n",
       "    </tr>\n",
       "    <tr>\n",
       "      <th>11</th>\n",
       "      <td>Benzene</td>\n",
       "      <td>78.110</td>\n",
       "      <td>80.1</td>\n",
       "      <td>354.25</td>\n",
       "    </tr>\n",
       "    <tr>\n",
       "      <th>12</th>\n",
       "      <td>Ethylene</td>\n",
       "      <td>28.050</td>\n",
       "      <td>-103.7</td>\n",
       "      <td>170.45</td>\n",
       "    </tr>\n",
       "    <tr>\n",
       "      <th>13</th>\n",
       "      <td>Propane</td>\n",
       "      <td>44.100</td>\n",
       "      <td>-42.1</td>\n",
       "      <td>232.05</td>\n",
       "    </tr>\n",
       "    <tr>\n",
       "      <th>14</th>\n",
       "      <td>Butane</td>\n",
       "      <td>58.120</td>\n",
       "      <td>-0.5</td>\n",
       "      <td>273.65</td>\n",
       "    </tr>\n",
       "    <tr>\n",
       "      <th>15</th>\n",
       "      <td>Pentane</td>\n",
       "      <td>72.150</td>\n",
       "      <td>36.1</td>\n",
       "      <td>310.25</td>\n",
       "    </tr>\n",
       "    <tr>\n",
       "      <th>16</th>\n",
       "      <td>Hexane</td>\n",
       "      <td>86.180</td>\n",
       "      <td>68.7</td>\n",
       "      <td>342.85</td>\n",
       "    </tr>\n",
       "    <tr>\n",
       "      <th>17</th>\n",
       "      <td>Heptane</td>\n",
       "      <td>100.200</td>\n",
       "      <td>98.4</td>\n",
       "      <td>372.55</td>\n",
       "    </tr>\n",
       "    <tr>\n",
       "      <th>18</th>\n",
       "      <td>Octane</td>\n",
       "      <td>114.220</td>\n",
       "      <td>125.7</td>\n",
       "      <td>399.85</td>\n",
       "    </tr>\n",
       "    <tr>\n",
       "      <th>19</th>\n",
       "      <td>Nonane</td>\n",
       "      <td>128.250</td>\n",
       "      <td>150.8</td>\n",
       "      <td>424.95</td>\n",
       "    </tr>\n",
       "    <tr>\n",
       "      <th>20</th>\n",
       "      <td>Decane</td>\n",
       "      <td>142.280</td>\n",
       "      <td>174.1</td>\n",
       "      <td>448.25</td>\n",
       "    </tr>\n",
       "    <tr>\n",
       "      <th>21</th>\n",
       "      <td>Caffeine</td>\n",
       "      <td>194.190</td>\n",
       "      <td>178.0</td>\n",
       "      <td>452.15</td>\n",
       "    </tr>\n",
       "    <tr>\n",
       "      <th>22</th>\n",
       "      <td>Ethane</td>\n",
       "      <td>30.070</td>\n",
       "      <td>-88.6</td>\n",
       "      <td>185.55</td>\n",
       "    </tr>\n",
       "  </tbody>\n",
       "</table>\n",
       "</div>"
      ],
      "text/plain": [
       "             molecule   weight  boiling_point_celsius  boiling_point_kelvin\n",
       "0               Water   18.015                  100.0                374.15\n",
       "1      Carbon Dioxide   44.010                  -78.5                195.65\n",
       "2             Methane   16.040                 -161.5                112.65\n",
       "3             Ethanol   46.070                   78.3                352.45\n",
       "4              Oxygen   32.000                 -183.0                 91.15\n",
       "5            Nitrogen   28.010                 -196.0                 78.15\n",
       "6   Hydrogen Peroxide   34.010                  150.2                424.35\n",
       "7             Ammonia   17.030                  -33.3                240.85\n",
       "8       Sulfuric Acid   98.090                  337.0                611.15\n",
       "9         Acetic Acid   60.050                  118.1                392.25\n",
       "10           Methanol   32.040                   64.7                338.85\n",
       "11            Benzene   78.110                   80.1                354.25\n",
       "12           Ethylene   28.050                 -103.7                170.45\n",
       "13            Propane   44.100                  -42.1                232.05\n",
       "14             Butane   58.120                   -0.5                273.65\n",
       "15            Pentane   72.150                   36.1                310.25\n",
       "16             Hexane   86.180                   68.7                342.85\n",
       "17            Heptane  100.200                   98.4                372.55\n",
       "18             Octane  114.220                  125.7                399.85\n",
       "19             Nonane  128.250                  150.8                424.95\n",
       "20             Decane  142.280                  174.1                448.25\n",
       "21           Caffeine  194.190                  178.0                452.15\n",
       "22             Ethane   30.070                  -88.6                185.55"
      ]
     },
     "execution_count": 46,
     "metadata": {},
     "output_type": "execute_result"
    }
   ],
=======
   "execution_count": null,
   "metadata": {},
   "outputs": [],
>>>>>>> 52ffef64fad52b6491d809afbccad1b6693ccc6a
   "source": [
    "# Adding a column of transformed data\n",
    "df[\"boiling_point_kelvin\"] = df[\"boiling_point_celsius\"].apply(lambda x: x + 274.15)\n",
    "df"
   ]
  },
  {
   "cell_type": "code",
<<<<<<< HEAD
   "execution_count": 47,
   "metadata": {},
   "outputs": [
    {
     "data": {
      "text/html": [
       "<div>\n",
       "<style scoped>\n",
       "    .dataframe tbody tr th:only-of-type {\n",
       "        vertical-align: middle;\n",
       "    }\n",
       "\n",
       "    .dataframe tbody tr th {\n",
       "        vertical-align: top;\n",
       "    }\n",
       "\n",
       "    .dataframe thead th {\n",
       "        text-align: right;\n",
       "    }\n",
       "</style>\n",
       "<table border=\"1\" class=\"dataframe\">\n",
       "  <thead>\n",
       "    <tr style=\"text-align: right;\">\n",
       "      <th></th>\n",
       "      <th>molecule</th>\n",
       "      <th>weight</th>\n",
       "      <th>boiling_point_celsius</th>\n",
       "      <th>boiling_point_kelvin</th>\n",
       "    </tr>\n",
       "  </thead>\n",
       "  <tbody>\n",
       "    <tr>\n",
       "      <th>5</th>\n",
       "      <td>Nitrogen</td>\n",
       "      <td>28.010</td>\n",
       "      <td>-196.0</td>\n",
       "      <td>78.15</td>\n",
       "    </tr>\n",
       "    <tr>\n",
       "      <th>4</th>\n",
       "      <td>Oxygen</td>\n",
       "      <td>32.000</td>\n",
       "      <td>-183.0</td>\n",
       "      <td>91.15</td>\n",
       "    </tr>\n",
       "    <tr>\n",
       "      <th>2</th>\n",
       "      <td>Methane</td>\n",
       "      <td>16.040</td>\n",
       "      <td>-161.5</td>\n",
       "      <td>112.65</td>\n",
       "    </tr>\n",
       "    <tr>\n",
       "      <th>12</th>\n",
       "      <td>Ethylene</td>\n",
       "      <td>28.050</td>\n",
       "      <td>-103.7</td>\n",
       "      <td>170.45</td>\n",
       "    </tr>\n",
       "    <tr>\n",
       "      <th>22</th>\n",
       "      <td>Ethane</td>\n",
       "      <td>30.070</td>\n",
       "      <td>-88.6</td>\n",
       "      <td>185.55</td>\n",
       "    </tr>\n",
       "    <tr>\n",
       "      <th>1</th>\n",
       "      <td>Carbon Dioxide</td>\n",
       "      <td>44.010</td>\n",
       "      <td>-78.5</td>\n",
       "      <td>195.65</td>\n",
       "    </tr>\n",
       "    <tr>\n",
       "      <th>13</th>\n",
       "      <td>Propane</td>\n",
       "      <td>44.100</td>\n",
       "      <td>-42.1</td>\n",
       "      <td>232.05</td>\n",
       "    </tr>\n",
       "    <tr>\n",
       "      <th>7</th>\n",
       "      <td>Ammonia</td>\n",
       "      <td>17.030</td>\n",
       "      <td>-33.3</td>\n",
       "      <td>240.85</td>\n",
       "    </tr>\n",
       "    <tr>\n",
       "      <th>14</th>\n",
       "      <td>Butane</td>\n",
       "      <td>58.120</td>\n",
       "      <td>-0.5</td>\n",
       "      <td>273.65</td>\n",
       "    </tr>\n",
       "    <tr>\n",
       "      <th>15</th>\n",
       "      <td>Pentane</td>\n",
       "      <td>72.150</td>\n",
       "      <td>36.1</td>\n",
       "      <td>310.25</td>\n",
       "    </tr>\n",
       "    <tr>\n",
       "      <th>10</th>\n",
       "      <td>Methanol</td>\n",
       "      <td>32.040</td>\n",
       "      <td>64.7</td>\n",
       "      <td>338.85</td>\n",
       "    </tr>\n",
       "    <tr>\n",
       "      <th>16</th>\n",
       "      <td>Hexane</td>\n",
       "      <td>86.180</td>\n",
       "      <td>68.7</td>\n",
       "      <td>342.85</td>\n",
       "    </tr>\n",
       "    <tr>\n",
       "      <th>3</th>\n",
       "      <td>Ethanol</td>\n",
       "      <td>46.070</td>\n",
       "      <td>78.3</td>\n",
       "      <td>352.45</td>\n",
       "    </tr>\n",
       "    <tr>\n",
       "      <th>11</th>\n",
       "      <td>Benzene</td>\n",
       "      <td>78.110</td>\n",
       "      <td>80.1</td>\n",
       "      <td>354.25</td>\n",
       "    </tr>\n",
       "    <tr>\n",
       "      <th>17</th>\n",
       "      <td>Heptane</td>\n",
       "      <td>100.200</td>\n",
       "      <td>98.4</td>\n",
       "      <td>372.55</td>\n",
       "    </tr>\n",
       "    <tr>\n",
       "      <th>0</th>\n",
       "      <td>Water</td>\n",
       "      <td>18.015</td>\n",
       "      <td>100.0</td>\n",
       "      <td>374.15</td>\n",
       "    </tr>\n",
       "    <tr>\n",
       "      <th>9</th>\n",
       "      <td>Acetic Acid</td>\n",
       "      <td>60.050</td>\n",
       "      <td>118.1</td>\n",
       "      <td>392.25</td>\n",
       "    </tr>\n",
       "    <tr>\n",
       "      <th>18</th>\n",
       "      <td>Octane</td>\n",
       "      <td>114.220</td>\n",
       "      <td>125.7</td>\n",
       "      <td>399.85</td>\n",
       "    </tr>\n",
       "    <tr>\n",
       "      <th>6</th>\n",
       "      <td>Hydrogen Peroxide</td>\n",
       "      <td>34.010</td>\n",
       "      <td>150.2</td>\n",
       "      <td>424.35</td>\n",
       "    </tr>\n",
       "    <tr>\n",
       "      <th>19</th>\n",
       "      <td>Nonane</td>\n",
       "      <td>128.250</td>\n",
       "      <td>150.8</td>\n",
       "      <td>424.95</td>\n",
       "    </tr>\n",
       "    <tr>\n",
       "      <th>20</th>\n",
       "      <td>Decane</td>\n",
       "      <td>142.280</td>\n",
       "      <td>174.1</td>\n",
       "      <td>448.25</td>\n",
       "    </tr>\n",
       "    <tr>\n",
       "      <th>21</th>\n",
       "      <td>Caffeine</td>\n",
       "      <td>194.190</td>\n",
       "      <td>178.0</td>\n",
       "      <td>452.15</td>\n",
       "    </tr>\n",
       "    <tr>\n",
       "      <th>8</th>\n",
       "      <td>Sulfuric Acid</td>\n",
       "      <td>98.090</td>\n",
       "      <td>337.0</td>\n",
       "      <td>611.15</td>\n",
       "    </tr>\n",
       "  </tbody>\n",
       "</table>\n",
       "</div>"
      ],
      "text/plain": [
       "             molecule   weight  boiling_point_celsius  boiling_point_kelvin\n",
       "5            Nitrogen   28.010                 -196.0                 78.15\n",
       "4              Oxygen   32.000                 -183.0                 91.15\n",
       "2             Methane   16.040                 -161.5                112.65\n",
       "12           Ethylene   28.050                 -103.7                170.45\n",
       "22             Ethane   30.070                  -88.6                185.55\n",
       "1      Carbon Dioxide   44.010                  -78.5                195.65\n",
       "13            Propane   44.100                  -42.1                232.05\n",
       "7             Ammonia   17.030                  -33.3                240.85\n",
       "14             Butane   58.120                   -0.5                273.65\n",
       "15            Pentane   72.150                   36.1                310.25\n",
       "10           Methanol   32.040                   64.7                338.85\n",
       "16             Hexane   86.180                   68.7                342.85\n",
       "3             Ethanol   46.070                   78.3                352.45\n",
       "11            Benzene   78.110                   80.1                354.25\n",
       "17            Heptane  100.200                   98.4                372.55\n",
       "0               Water   18.015                  100.0                374.15\n",
       "9         Acetic Acid   60.050                  118.1                392.25\n",
       "18             Octane  114.220                  125.7                399.85\n",
       "6   Hydrogen Peroxide   34.010                  150.2                424.35\n",
       "19             Nonane  128.250                  150.8                424.95\n",
       "20             Decane  142.280                  174.1                448.25\n",
       "21           Caffeine  194.190                  178.0                452.15\n",
       "8       Sulfuric Acid   98.090                  337.0                611.15"
      ]
     },
     "execution_count": 47,
     "metadata": {},
     "output_type": "execute_result"
    }
   ],
=======
   "execution_count": null,
   "metadata": {},
   "outputs": [],
>>>>>>> 52ffef64fad52b6491d809afbccad1b6693ccc6a
   "source": [
    "# Sort by boiling point, low to high\n",
    "df.sort_values(by=\"boiling_point_celsius\")"
   ]
  },
  {
   "cell_type": "code",
<<<<<<< HEAD
   "execution_count": 48,
   "metadata": {},
   "outputs": [
    {
     "data": {
      "text/html": [
       "<div>\n",
       "<style scoped>\n",
       "    .dataframe tbody tr th:only-of-type {\n",
       "        vertical-align: middle;\n",
       "    }\n",
       "\n",
       "    .dataframe tbody tr th {\n",
       "        vertical-align: top;\n",
       "    }\n",
       "\n",
       "    .dataframe thead th {\n",
       "        text-align: right;\n",
       "    }\n",
       "</style>\n",
       "<table border=\"1\" class=\"dataframe\">\n",
       "  <thead>\n",
       "    <tr style=\"text-align: right;\">\n",
       "      <th></th>\n",
       "      <th>molecule</th>\n",
       "      <th>weight</th>\n",
       "      <th>boiling_point_celsius</th>\n",
       "      <th>boiling_point_kelvin</th>\n",
       "    </tr>\n",
       "  </thead>\n",
       "  <tbody>\n",
       "    <tr>\n",
       "      <th>8</th>\n",
       "      <td>Sulfuric Acid</td>\n",
       "      <td>98.090</td>\n",
       "      <td>337.0</td>\n",
       "      <td>611.15</td>\n",
       "    </tr>\n",
       "    <tr>\n",
       "      <th>21</th>\n",
       "      <td>Caffeine</td>\n",
       "      <td>194.190</td>\n",
       "      <td>178.0</td>\n",
       "      <td>452.15</td>\n",
       "    </tr>\n",
       "    <tr>\n",
       "      <th>20</th>\n",
       "      <td>Decane</td>\n",
       "      <td>142.280</td>\n",
       "      <td>174.1</td>\n",
       "      <td>448.25</td>\n",
       "    </tr>\n",
       "    <tr>\n",
       "      <th>19</th>\n",
       "      <td>Nonane</td>\n",
       "      <td>128.250</td>\n",
       "      <td>150.8</td>\n",
       "      <td>424.95</td>\n",
       "    </tr>\n",
       "    <tr>\n",
       "      <th>6</th>\n",
       "      <td>Hydrogen Peroxide</td>\n",
       "      <td>34.010</td>\n",
       "      <td>150.2</td>\n",
       "      <td>424.35</td>\n",
       "    </tr>\n",
       "    <tr>\n",
       "      <th>18</th>\n",
       "      <td>Octane</td>\n",
       "      <td>114.220</td>\n",
       "      <td>125.7</td>\n",
       "      <td>399.85</td>\n",
       "    </tr>\n",
       "    <tr>\n",
       "      <th>9</th>\n",
       "      <td>Acetic Acid</td>\n",
       "      <td>60.050</td>\n",
       "      <td>118.1</td>\n",
       "      <td>392.25</td>\n",
       "    </tr>\n",
       "    <tr>\n",
       "      <th>0</th>\n",
       "      <td>Water</td>\n",
       "      <td>18.015</td>\n",
       "      <td>100.0</td>\n",
       "      <td>374.15</td>\n",
       "    </tr>\n",
       "    <tr>\n",
       "      <th>17</th>\n",
       "      <td>Heptane</td>\n",
       "      <td>100.200</td>\n",
       "      <td>98.4</td>\n",
       "      <td>372.55</td>\n",
       "    </tr>\n",
       "    <tr>\n",
       "      <th>11</th>\n",
       "      <td>Benzene</td>\n",
       "      <td>78.110</td>\n",
       "      <td>80.1</td>\n",
       "      <td>354.25</td>\n",
       "    </tr>\n",
       "    <tr>\n",
       "      <th>3</th>\n",
       "      <td>Ethanol</td>\n",
       "      <td>46.070</td>\n",
       "      <td>78.3</td>\n",
       "      <td>352.45</td>\n",
       "    </tr>\n",
       "    <tr>\n",
       "      <th>16</th>\n",
       "      <td>Hexane</td>\n",
       "      <td>86.180</td>\n",
       "      <td>68.7</td>\n",
       "      <td>342.85</td>\n",
       "    </tr>\n",
       "    <tr>\n",
       "      <th>10</th>\n",
       "      <td>Methanol</td>\n",
       "      <td>32.040</td>\n",
       "      <td>64.7</td>\n",
       "      <td>338.85</td>\n",
       "    </tr>\n",
       "    <tr>\n",
       "      <th>15</th>\n",
       "      <td>Pentane</td>\n",
       "      <td>72.150</td>\n",
       "      <td>36.1</td>\n",
       "      <td>310.25</td>\n",
       "    </tr>\n",
       "    <tr>\n",
       "      <th>14</th>\n",
       "      <td>Butane</td>\n",
       "      <td>58.120</td>\n",
       "      <td>-0.5</td>\n",
       "      <td>273.65</td>\n",
       "    </tr>\n",
       "    <tr>\n",
       "      <th>7</th>\n",
       "      <td>Ammonia</td>\n",
       "      <td>17.030</td>\n",
       "      <td>-33.3</td>\n",
       "      <td>240.85</td>\n",
       "    </tr>\n",
       "    <tr>\n",
       "      <th>13</th>\n",
       "      <td>Propane</td>\n",
       "      <td>44.100</td>\n",
       "      <td>-42.1</td>\n",
       "      <td>232.05</td>\n",
       "    </tr>\n",
       "    <tr>\n",
       "      <th>1</th>\n",
       "      <td>Carbon Dioxide</td>\n",
       "      <td>44.010</td>\n",
       "      <td>-78.5</td>\n",
       "      <td>195.65</td>\n",
       "    </tr>\n",
       "    <tr>\n",
       "      <th>22</th>\n",
       "      <td>Ethane</td>\n",
       "      <td>30.070</td>\n",
       "      <td>-88.6</td>\n",
       "      <td>185.55</td>\n",
       "    </tr>\n",
       "    <tr>\n",
       "      <th>12</th>\n",
       "      <td>Ethylene</td>\n",
       "      <td>28.050</td>\n",
       "      <td>-103.7</td>\n",
       "      <td>170.45</td>\n",
       "    </tr>\n",
       "    <tr>\n",
       "      <th>2</th>\n",
       "      <td>Methane</td>\n",
       "      <td>16.040</td>\n",
       "      <td>-161.5</td>\n",
       "      <td>112.65</td>\n",
       "    </tr>\n",
       "    <tr>\n",
       "      <th>4</th>\n",
       "      <td>Oxygen</td>\n",
       "      <td>32.000</td>\n",
       "      <td>-183.0</td>\n",
       "      <td>91.15</td>\n",
       "    </tr>\n",
       "    <tr>\n",
       "      <th>5</th>\n",
       "      <td>Nitrogen</td>\n",
       "      <td>28.010</td>\n",
       "      <td>-196.0</td>\n",
       "      <td>78.15</td>\n",
       "    </tr>\n",
       "  </tbody>\n",
       "</table>\n",
       "</div>"
      ],
      "text/plain": [
       "             molecule   weight  boiling_point_celsius  boiling_point_kelvin\n",
       "8       Sulfuric Acid   98.090                  337.0                611.15\n",
       "21           Caffeine  194.190                  178.0                452.15\n",
       "20             Decane  142.280                  174.1                448.25\n",
       "19             Nonane  128.250                  150.8                424.95\n",
       "6   Hydrogen Peroxide   34.010                  150.2                424.35\n",
       "18             Octane  114.220                  125.7                399.85\n",
       "9         Acetic Acid   60.050                  118.1                392.25\n",
       "0               Water   18.015                  100.0                374.15\n",
       "17            Heptane  100.200                   98.4                372.55\n",
       "11            Benzene   78.110                   80.1                354.25\n",
       "3             Ethanol   46.070                   78.3                352.45\n",
       "16             Hexane   86.180                   68.7                342.85\n",
       "10           Methanol   32.040                   64.7                338.85\n",
       "15            Pentane   72.150                   36.1                310.25\n",
       "14             Butane   58.120                   -0.5                273.65\n",
       "7             Ammonia   17.030                  -33.3                240.85\n",
       "13            Propane   44.100                  -42.1                232.05\n",
       "1      Carbon Dioxide   44.010                  -78.5                195.65\n",
       "22             Ethane   30.070                  -88.6                185.55\n",
       "12           Ethylene   28.050                 -103.7                170.45\n",
       "2             Methane   16.040                 -161.5                112.65\n",
       "4              Oxygen   32.000                 -183.0                 91.15\n",
       "5            Nitrogen   28.010                 -196.0                 78.15"
      ]
     },
     "execution_count": 48,
     "metadata": {},
     "output_type": "execute_result"
    }
   ],
=======
   "execution_count": null,
   "metadata": {},
   "outputs": [],
>>>>>>> 52ffef64fad52b6491d809afbccad1b6693ccc6a
   "source": [
    "# Sort by boiling point, high to low\n",
    "df.sort_values(by=\"boiling_point_celsius\", ascending=False)"
   ]
  },
  {
   "cell_type": "markdown",
   "metadata": {},
   "source": [
    "## 3. Data Visualization with `matplotlib`\n",
    "\n",
    "**What it is**: Matplotlib is a plotting library for Python, providing an object-oriented API for embedding plots into applications. It's capable of producing a wide range of static, animated, and interactive visualizations in a variety of output formats.\n",
    "\n",
    "**Why it's used**: Matplotlib is the go-to library for creating graphs, charts, and figures in Python. It's highly customizable and can produce almost any kind of visualization you might need, from simple bar charts and line plots to complex scatter plots and histograms.\n",
    "\n",
    "**Usefulness in Chemical Sciences**: Visual representation of data is crucial in\n",
    "chemistry for understanding complex relationships, trends, and patterns. Matplotlib\n",
    "enables chemists to visualize experimental results, such as reaction rates or\n",
    "concentration changes over time, and to compare theoretical models with experimental\n",
    "data. It's also used in teaching to help explain complex concepts through visual aids.\n",
    "\n",
    "\n",
    "Let's plot some chemically-inspired data."
   ]
  },
  {
   "cell_type": "code",
<<<<<<< HEAD
   "execution_count": 16,
   "metadata": {},
   "outputs": [
    {
     "data": {
      "image/png": "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",
      "text/plain": [
       "<Figure size 640x480 with 1 Axes>"
      ]
     },
     "metadata": {},
     "output_type": "display_data"
    }
   ],
   "source": [
    "import matplotlib.pyplot as plt\n",
=======
   "execution_count": null,
   "metadata": {},
   "outputs": [],
   "source": [
>>>>>>> 52ffef64fad52b6491d809afbccad1b6693ccc6a
    "elements = ['Li', 'Be', 'B', 'C', 'N', 'O', 'F', 'Ne']\n",
    "atomic_radii = [152, 112, 88, 77, 70, 66, 64, 58]  # in pm\n",
    "\n",
    "# Create a plot. Use a 'o' marker to plot scatter points\n",
    "fig, ax = plt.subplots()\n",
<<<<<<< HEAD
    "ax.plot(elements, atomic_radii, marker='D', linestyle='-', color='m')\n",
=======
    "ax.plot(elements, atomic_radii, marker='o', linestyle='-', color='b')\n",
>>>>>>> 52ffef64fad52b6491d809afbccad1b6693ccc6a
    "ax.set_title('Atomic Radii of the Elements in the Second Period')\n",
    "ax.set_xlabel('Element')\n",
    "ax.set_ylabel('Atomic Radii (pm)')\n",
    "ax.grid(True)"
   ]
  },
  {
   "cell_type": "code",
<<<<<<< HEAD
   "execution_count": 19,
   "metadata": {},
   "outputs": [
    {
     "data": {
      "text/plain": [
       "Text(0, 0.5, 'Ionization Energy (eV)')"
      ]
     },
     "execution_count": 19,
     "metadata": {},
     "output_type": "execute_result"
    },
    {
     "data": {
      "image/png": "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",
      "text/plain": [
       "<Figure size 640x480 with 1 Axes>"
      ]
     },
     "metadata": {},
     "output_type": "display_data"
    }
   ],
=======
   "execution_count": null,
   "metadata": {},
   "outputs": [],
>>>>>>> 52ffef64fad52b6491d809afbccad1b6693ccc6a
   "source": [
    "elements = ['H', 'He', 'Li', 'Be']\n",
    "ionization_energies = [13.6, 24.6, 5.39, 9.32]  # in eV\n",
    "\n",
    "fig, ax = plt.subplots()\n",
<<<<<<< HEAD
    "ax.bar(elements, ionization_energies, color='turquoise')\n",
=======
    "ax.bar(elements, ionization_energies, color='green')\n",
>>>>>>> 52ffef64fad52b6491d809afbccad1b6693ccc6a
    "ax.set_title('First Ionization Energies of Elements')\n",
    "ax.set_xlabel('Element')\n",
    "ax.set_ylabel('Ionization Energy (eV)')"
   ]
  },
  {
   "cell_type": "code",
<<<<<<< HEAD
   "execution_count": 22,
   "metadata": {},
   "outputs": [
    {
     "name": "stderr",
     "output_type": "stream",
     "text": [
      "C:\\Users\\33783\\AppData\\Local\\Temp\\ipykernel_35164\\179816743.py:25: SettingWithCopyWarning: \n",
      "A value is trying to be set on a copy of a slice from a DataFrame.\n",
      "Try using .loc[row_indexer,col_indexer] = value instead\n",
      "\n",
      "See the caveats in the documentation: https://pandas.pydata.org/pandas-docs/stable/user_guide/indexing.html#returning-a-view-versus-a-copy\n",
      "  hcarbons_df[\"num_carbons\"] = [hydrocarbons[name] for name in hcarbons_df[\"molecule\"]]\n"
     ]
    },
    {
     "data": {
      "text/html": [
       "<div>\n",
       "<style scoped>\n",
       "    .dataframe tbody tr th:only-of-type {\n",
       "        vertical-align: middle;\n",
       "    }\n",
       "\n",
       "    .dataframe tbody tr th {\n",
       "        vertical-align: top;\n",
       "    }\n",
       "\n",
       "    .dataframe thead th {\n",
       "        text-align: right;\n",
       "    }\n",
       "</style>\n",
       "<table border=\"1\" class=\"dataframe\">\n",
       "  <thead>\n",
       "    <tr style=\"text-align: right;\">\n",
       "      <th></th>\n",
       "      <th>molecule</th>\n",
       "      <th>weight</th>\n",
       "      <th>boiling_point_celsius</th>\n",
       "      <th>num_carbons</th>\n",
       "    </tr>\n",
       "  </thead>\n",
       "  <tbody>\n",
       "    <tr>\n",
       "      <th>2</th>\n",
       "      <td>Methane</td>\n",
       "      <td>16.04</td>\n",
       "      <td>-161.5</td>\n",
       "      <td>1</td>\n",
       "    </tr>\n",
       "    <tr>\n",
       "      <th>13</th>\n",
       "      <td>Propane</td>\n",
       "      <td>44.10</td>\n",
       "      <td>-42.1</td>\n",
       "      <td>3</td>\n",
       "    </tr>\n",
       "    <tr>\n",
       "      <th>14</th>\n",
       "      <td>Butane</td>\n",
       "      <td>58.12</td>\n",
       "      <td>-0.5</td>\n",
       "      <td>4</td>\n",
       "    </tr>\n",
       "    <tr>\n",
       "      <th>15</th>\n",
       "      <td>Pentane</td>\n",
       "      <td>72.15</td>\n",
       "      <td>36.1</td>\n",
       "      <td>5</td>\n",
       "    </tr>\n",
       "    <tr>\n",
       "      <th>16</th>\n",
       "      <td>Hexane</td>\n",
       "      <td>86.18</td>\n",
       "      <td>68.7</td>\n",
       "      <td>6</td>\n",
       "    </tr>\n",
       "    <tr>\n",
       "      <th>17</th>\n",
       "      <td>Heptane</td>\n",
       "      <td>100.20</td>\n",
       "      <td>98.4</td>\n",
       "      <td>7</td>\n",
       "    </tr>\n",
       "    <tr>\n",
       "      <th>18</th>\n",
       "      <td>Octane</td>\n",
       "      <td>114.22</td>\n",
       "      <td>125.7</td>\n",
       "      <td>8</td>\n",
       "    </tr>\n",
       "    <tr>\n",
       "      <th>19</th>\n",
       "      <td>Nonane</td>\n",
       "      <td>128.25</td>\n",
       "      <td>150.8</td>\n",
       "      <td>9</td>\n",
       "    </tr>\n",
       "    <tr>\n",
       "      <th>20</th>\n",
       "      <td>Decane</td>\n",
       "      <td>142.28</td>\n",
       "      <td>174.1</td>\n",
       "      <td>10</td>\n",
       "    </tr>\n",
       "    <tr>\n",
       "      <th>22</th>\n",
       "      <td>Ethane</td>\n",
       "      <td>30.07</td>\n",
       "      <td>-88.6</td>\n",
       "      <td>2</td>\n",
       "    </tr>\n",
       "  </tbody>\n",
       "</table>\n",
       "</div>"
      ],
      "text/plain": [
       "   molecule  weight  boiling_point_celsius  num_carbons\n",
       "2   Methane   16.04                 -161.5            1\n",
       "13  Propane   44.10                  -42.1            3\n",
       "14   Butane   58.12                   -0.5            4\n",
       "15  Pentane   72.15                   36.1            5\n",
       "16   Hexane   86.18                   68.7            6\n",
       "17  Heptane  100.20                   98.4            7\n",
       "18   Octane  114.22                  125.7            8\n",
       "19   Nonane  128.25                  150.8            9\n",
       "20   Decane  142.28                  174.1           10\n",
       "22   Ethane   30.07                  -88.6            2"
      ]
     },
     "metadata": {},
     "output_type": "display_data"
    },
    {
     "data": {
      "text/plain": [
       "Text(0, 0.5, 'Molecular Weight (g/mol)')"
      ]
     },
     "execution_count": 22,
     "metadata": {},
     "output_type": "execute_result"
    },
    {
     "data": {
      "image/png": "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",
      "text/plain": [
       "<Figure size 640x480 with 1 Axes>"
      ]
     },
     "metadata": {},
     "output_type": "display_data"
    }
   ],
   "source": [
    "# Load the data from before\n",
    "import pandas as pd\n",
=======
   "execution_count": null,
   "metadata": {},
   "outputs": [],
   "source": [
    "# Load the data from before\n",
>>>>>>> 52ffef64fad52b6491d809afbccad1b6693ccc6a
    "file_path = \"molecular_data.txt\"\n",
    "df = pd.read_csv(file_path, names=[\"molecule\", \"weight\", \"boiling_point_celsius\"], skiprows=1)\n",
    "df\n",
    "\n",
    "# Create a sub-dataframe for the linear hydrocarbons. First, let's create a dictionary\n",
    "# to map the names to the number of carbons.\n",
    "hydrocarbons = {\n",
    "    \"Methane\": 1,\n",
    "    \"Ethane\": 2,\n",
    "    \"Propane\": 3,\n",
    "    \"Butane\": 4,\n",
    "    \"Pentane\": 5,\n",
    "    \"Hexane\": 6,\n",
    "    \"Heptane\": 7,\n",
    "    \"Octane\": 8,\n",
    "    \"Nonane\": 9,\n",
    "    \"Decane\": 10,\n",
    "\n",
    "}\n",
    "hcarbons_df = df[df[\"molecule\"].isin(hydrocarbons.keys())]\n",
    "\n",
    "# Add this as a column in the dataframe\n",
    "hcarbons_df[\"num_carbons\"] = [hydrocarbons[name] for name in hcarbons_df[\"molecule\"]]\n",
    "display(hcarbons_df)\n",
    "\n",
    "# Plot the molecular weight against the number of carbons\n",
    "fig, ax = plt.subplots()\n",
<<<<<<< HEAD
    "ax.scatter(hcarbons_df[\"num_carbons\"], hcarbons_df[\"weight\"], color='orange')\n",
=======
    "ax.scatter(hcarbons_df[\"num_carbons\"], hcarbons_df[\"weight\"])\n",
>>>>>>> 52ffef64fad52b6491d809afbccad1b6693ccc6a
    "\n",
    "# Add axes titles and labels\n",
    "ax.set_xlabel(\"Number of carbons\")\n",
    "ax.set_ylabel(\"Molecular Weight (g/mol)\")"
   ]
  },
  {
   "cell_type": "code",
<<<<<<< HEAD
   "execution_count": 23,
   "metadata": {},
   "outputs": [
    {
     "data": {
      "text/plain": [
       "<matplotlib.legend.Legend at 0x22c047f4990>"
      ]
     },
     "execution_count": 23,
     "metadata": {},
     "output_type": "execute_result"
    },
    {
     "data": {
      "image/png": "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",
      "text/plain": [
       "<Figure size 640x480 with 1 Axes>"
      ]
     },
     "metadata": {},
     "output_type": "display_data"
    }
   ],
=======
   "execution_count": null,
   "metadata": {},
   "outputs": [],
>>>>>>> 52ffef64fad52b6491d809afbccad1b6693ccc6a
   "source": [
    "# Plot both the molecular weight and boiling point on the same plot, using a secondary\n",
    "# axis\n",
    "fig, ax = plt.subplots()\n",
    "ax.scatter(hcarbons_df[\"num_carbons\"], hcarbons_df[\"weight\"], label=\"Molecular Weight (g/mol)\")\n",
    "ax.scatter(hcarbons_df[\"num_carbons\"], hcarbons_df[\"boiling_point_celsius\"], label=\"Boiling Point (°C)\")\n",
    "\n",
    "# Add a title and labels\n",
    "ax.set_xlabel(\"Number of carbons in hydrocarbon\")\n",
    "ax.set_ylabel(\"Molecular Weight (g/mol)\")\n",
    "ax.set_ylabel(\"Boiling Point (°C)\")\n",
    "ax.legend()"
   ]
  },
  {
   "cell_type": "code",
<<<<<<< HEAD
   "execution_count": 24,
   "metadata": {},
   "outputs": [
    {
     "data": {
      "text/plain": [
       "<matplotlib.legend.Legend at 0x22c04883150>"
      ]
     },
     "execution_count": 24,
     "metadata": {},
     "output_type": "execute_result"
    },
    {
     "data": {
      "image/png": "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",
      "text/plain": [
       "<Figure size 640x480 with 1 Axes>"
      ]
     },
     "metadata": {},
     "output_type": "display_data"
    }
   ],
=======
   "execution_count": null,
   "metadata": {},
   "outputs": [],
>>>>>>> 52ffef64fad52b6491d809afbccad1b6693ccc6a
   "source": [
    "# Plot both the molecular weight and boiling point on the same plot, using a secondary\n",
    "# axis\n",
    "plt.scatter(hcarbons_df[\"num_carbons\"], hcarbons_df[\"weight\"], label=\"Molecular Weight (g/mol)\")\n",
    "plt.scatter(hcarbons_df[\"num_carbons\"], hcarbons_df[\"boiling_point_celsius\"], label=\"Boiling Point (°C)\")\n",
    "\n",
    "# Add a title and labels\n",
    "plt.xlabel(\"Number of carbons in hydrocarbon\")\n",
    "plt.ylabel(\"Molecular Weight (g/mol)\")\n",
    "plt.ylabel(\"Boiling Point (°C)\")\n",
    "plt.legend()"
   ]
  },
  {
   "cell_type": "markdown",
   "metadata": {},
   "source": [
    "Now it's your turn! \n",
    "\n",
    "1. Use a `Path` object to define the path to the reaction yield file from last week:\n",
    "   \"reaction_yields.txt\". This will be stored at relative path `../week_03/reaction_yields.txt`\n",
    "2. Create a `pandas` DataFrame by loading the data from this path\n",
    "2. Calculate the percentage yield, and add it as a new column in the DataFrame\n",
    "3. Plot a bar graph with `matplotlib`, where the x axis is the name of the scientist and\n",
    "   the y axis is the percentage yield.\n",
    "\n",
    "**Hint**: you'll need to inpsect the file to see what the ***delimiter*** is. Use the\n",
    "`pd.read_csv(...)` function with the `sep` (for the delimiter) and `skiprows` arguments."
   ]
  },
  {
   "cell_type": "code",
<<<<<<< HEAD
   "execution_count": 55,
   "metadata": {},
   "outputs": [
    {
     "name": "stdout",
     "output_type": "stream",
     "text": [
      "0       5.00\n",
      "1       4.00\n",
      "2       0.10\n",
      "3    1000.00\n",
      "4       3.14\n",
      "Name: Theoretical Yield (g), dtype: float64\n",
      "  Scientist Name  Theoretical Yield (g)  Actual Yield (g)  Yield percentage\n",
      "0       Philippe                   5.00              2.78         55.600000\n",
      "1        Rebecca                   4.00              2.00         50.000000\n",
      "2         Sarina                   0.10              0.09         90.000000\n",
      "3            Joe                1000.00              1.00          0.100000\n",
      "4         Daniel                   3.14              2.00         63.694268\n"
     ]
    },
    {
     "data": {
      "text/plain": [
       "Text(0, 0.5, 'yields (%)')"
      ]
     },
     "execution_count": 55,
     "metadata": {},
     "output_type": "execute_result"
    },
    {
     "data": {
      "image/png": "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",
      "text/plain": [
       "<Figure size 640x480 with 1 Axes>"
      ]
     },
     "metadata": {},
     "output_type": "display_data"
    }
   ],
   "source": [
    "# TODO: your code here\n",
    "file_path= r\"C:\\Users\\33783\\Documents\\EPFL\\Etudes\\BA4\\ppchem\\practical-programming-in-chemistry-exercises\\week_03\\reaction_yields.txt\"\n",
    "df = pd.read_csv(file_path, names=[\"Scientist Name\", \"Theoretical Yield (g)\", \"Actual Yield (g)\"], sep=' ', skiprows=1)\n",
    "print (df[\"Theoretical Yield (g)\"])\n",
    "# Calculate Yield percentage for each row\n",
    "yield_percentage = []\n",
    "for actual, theoretical in zip(df[\"Actual Yield (g)\"], df[\"Theoretical Yield (g)\"]):\n",
    "    if theoretical != 0:  # Avoid division by zero\n",
    "        yield_percentage.append((actual / theoretical) * 100)\n",
    "    else:\n",
    "        yield_percentage.append(0)  # Handle division by zero case\n",
    "\n",
    "# Assign the calculated values to a new column in the DataFrame\n",
    "df[\"Yield percentage\"] = yield_percentage\n",
    "print (df)\n",
    "# plot\n",
    "fig, ax = plt.subplots()\n",
    "ax.bar(df[\"Scientist Name\"],df[\"Yield percentage\"] , color='turquoise')\n",
    "ax.set_title('Yields of the different scientists')\n",
    "ax.set_xlabel('Scientists')\n",
    "ax.set_ylabel('yields (%)')\n"
=======
   "execution_count": null,
   "metadata": {},
   "outputs": [],
   "source": [
    "# TODO: your code here"
>>>>>>> 52ffef64fad52b6491d809afbccad1b6693ccc6a
   ]
  },
  {
   "cell_type": "markdown",
   "metadata": {},
   "source": [
    "## How about some real data?\n",
    "\n",
    "Do you have some data from a recent lab experiment, in `.csv`, `.xlsx`, or `.txt` file\n",
    "format?\n",
    "\n",
    "If so and if you have time, try to read it into a pandas DataFrame and make some plots.\n",
    "The TAs would love to hear about your experiments - speak to us and we'll see what cool\n",
    "plots we can make with what you've learned already :)"
   ]
  },
  {
   "cell_type": "markdown",
   "metadata": {},
   "source": [
    "## Optional: `scipy` and `seaborn`\n",
    "\n",
    "Two packages that have not been introduced here, but provide extra functionality on top\n",
    "of `numpy` and `matplotlib`, respectively, are `scipy` and `seaborn`. So that you're\n",
    "aware of them, here are short descriptions and code examples.\n",
    "\n",
    "#### SciPy: Enhancing NumPy for Scientific Computing\n",
    "\n",
    "While NumPy provides the foundational array data structure and basic operations for\n",
    "numerical computing in Python, SciPy builds upon this foundation to offer a\n",
    "comprehensive collection of algorithms for scientific computing. SciPy, short for\n",
    "Scientific Python, is a library that provides modules for optimization, linear algebra,\n",
    "integration, interpolation, special functions, FFT, signal and image processing, ODE\n",
    "solvers, and other tasks common in science and engineering. \n",
    "\n",
    "Essentially, SciPy takes the capabilities of NumPy to the next level by adding a vast\n",
    "array of mathematical functions and algorithms for data manipulation and analysis. It's\n",
    "particularly valuable for tasks that require complex mathematical computations, such as\n",
    "solving differential equations, finding numerical integrals, or optimizing functions.\n",
    "\n",
    "This example demonstrates how SciPy can be used to solve a linear system of equations,\n",
    "which is a common task in scientific computing. The system of equations we'll solve is:\n",
    "\n",
    "3x + 2y = 5\n",
    "\n",
    "4x - y = 2"
   ]
  },
  {
   "cell_type": "code",
<<<<<<< HEAD
   "execution_count": 57,
   "metadata": {},
   "outputs": [
    {
     "data": {
      "text/plain": [
       "Text(0, 0.5, 'y')"
      ]
     },
     "execution_count": 57,
     "metadata": {},
     "output_type": "execute_result"
    },
    {
     "data": {
      "image/png": "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",
      "text/plain": [
       "<Figure size 640x480 with 1 Axes>"
      ]
     },
     "metadata": {},
     "output_type": "display_data"
    }
   ],
   "source": [
    "# Plot the lines defined by the equations\n",
    "import matplotlib.pyplot as plt\n",
    "import numpy as np\n",
=======
   "execution_count": null,
   "metadata": {},
   "outputs": [],
   "source": [
    "# Plot the lines defined by the equations\n",
    "import matplotlib.pyplot as plt\n",
    "\n",
>>>>>>> 52ffef64fad52b6491d809afbccad1b6693ccc6a
    "# Define the x values\n",
    "x = np.linspace(-10, 10, 100)\n",
    "y1 = 0.5 * (5 - 3 * x)\n",
    "y2 = 4 * x - 2\n",
    "\n",
    "fig, ax = plt.subplots()\n",
    "ax.plot(x, y1)\n",
    "ax.plot(x, y2)\n",
    "ax.set_xlabel(\"x\")\n",
    "ax.set_ylabel(\"y\")"
   ]
  },
  {
   "cell_type": "code",
<<<<<<< HEAD
   "execution_count": 58,
   "metadata": {},
   "outputs": [
    {
     "name": "stdout",
     "output_type": "stream",
     "text": [
      "Requirement already satisfied: scipy in c:\\users\\33783\\anaconda3\\lib\\site-packages (1.11.1)\n",
      "Requirement already satisfied: numpy<1.28.0,>=1.21.6 in c:\\users\\33783\\anaconda3\\lib\\site-packages (from scipy) (1.24.3)\n"
     ]
    }
   ],
   "source": [
    "# Un-comment and run to install scipy\n",
    "# !pip install scipy\n",
    "!pip install scipy\n"
=======
   "execution_count": null,
   "metadata": {},
   "outputs": [],
   "source": [
    "# Un-comment and run to install scipy\n",
    "# !pip install scipy"
>>>>>>> 52ffef64fad52b6491d809afbccad1b6693ccc6a
   ]
  },
  {
   "cell_type": "code",
<<<<<<< HEAD
   "execution_count": 59,
   "metadata": {},
   "outputs": [
    {
     "name": "stdout",
     "output_type": "stream",
     "text": [
      "Solution: x = 0.8181818181818181, y = 1.2727272727272727\n"
     ]
    }
   ],
=======
   "execution_count": null,
   "metadata": {},
   "outputs": [],
>>>>>>> 52ffef64fad52b6491d809afbccad1b6693ccc6a
   "source": [
    "import numpy as np\n",
    "from scipy import linalg\n",
    "\n",
    "# Coefficients of the equations\n",
    "A = np.array([[3, 2], [4, -1]])\n",
    "\n",
    "# Right-hand side values\n",
    "b = np.array([5, 2])\n",
    "\n",
    "# Solving for x and y\n",
    "x_intersect, y_intersect = linalg.solve(A, b)\n",
    "\n",
    "print(f'Solution: x = {x_intersect}, y = {y_intersect}')"
   ]
  },
  {
   "cell_type": "code",
<<<<<<< HEAD
   "execution_count": 60,
   "metadata": {},
   "outputs": [
    {
     "data": {
      "text/plain": [
       "<matplotlib.legend.Legend at 0x22c0cf1d0d0>"
      ]
     },
     "execution_count": 60,
     "metadata": {},
     "output_type": "execute_result"
    },
    {
     "data": {
      "image/png": "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",
      "text/plain": [
       "<Figure size 640x480 with 1 Axes>"
      ]
     },
     "metadata": {},
     "output_type": "display_data"
    }
   ],
=======
   "execution_count": null,
   "metadata": {},
   "outputs": [],
>>>>>>> 52ffef64fad52b6491d809afbccad1b6693ccc6a
   "source": [
    "# Re-plot the figure from above\n",
    "import matplotlib.pyplot as plt\n",
    "\n",
    "x = np.linspace(-10, 10, 100)\n",
    "y1 = 0.5 * (5 - 3 * x)\n",
    "y2 = 4 * x - 2\n",
    "\n",
    "fig, ax = plt.subplots()\n",
    "ax.plot(x, y1)\n",
    "ax.plot(x, y2)\n",
    "ax.set_xlabel(\"x\")\n",
    "ax.set_ylabel(\"y\")\n",
    "\n",
    "# Add the solution to the plot\n",
    "ax.axvline(x_intersect, linestyle=\"dashed\", color=\"gray\", label=f\"x = {x_intersect:.2f}\")\n",
    "ax.axhline(y_intersect, linestyle=\"dotted\", color=\"gray\", label=f\"y = {y_intersect:.2f}\")\n",
    "ax.legend()"
   ]
  },
  {
   "cell_type": "markdown",
   "metadata": {},
   "source": [
    "### Seaborn: Statistical Data Visualization\n",
    "\n",
    "Matplotlib is an incredibly flexible plotting library, allowing for the creation of a\n",
    "wide range of static, animated, and interactive plots. Seaborn builds on Matplotlib by\n",
    "providing a high-level interface for drawing attractive and informative statistical\n",
    "graphics. It is specifically designed to work well with pandas DataFrames, making it\n",
    "easier to visualize data from these structures. \n",
    "\n",
    "Seaborn simplifies the process of creating complex visualizations like heat maps, time\n",
    "series, and violin plots. It automatically applies default themes that are aesthetically\n",
    "pleasing and offers a rich set of options for customizing plots. Additionally, Seaborn\n",
    "includes functions for fitting and visualizing linear regression models, making it an\n",
    "invaluable tool for data analysis and exploration. By abstracting the complexity of\n",
    "Matplotlib, Seaborn enables researchers and data scientists to generate insights into\n",
    "their data through visualizations with less code.\n",
    "\n",
    "This example shows how Seaborn can be used to create a distribution plot, which is\n",
    "useful for visualizing the distribution of a dataset. We'll generate a random dataset\n",
    "using NumPy and then visualize it with Seaborn's distplot, which combines a histogram\n",
    "with a kernel density estimate (KDE)."
   ]
  },
  {
   "cell_type": "code",
<<<<<<< HEAD
   "execution_count": 61,
   "metadata": {},
   "outputs": [
    {
     "name": "stdout",
     "output_type": "stream",
     "text": [
      "Requirement already satisfied: seaborn in c:\\users\\33783\\anaconda3\\lib\\site-packages (0.12.2)\n",
      "Requirement already satisfied: numpy!=1.24.0,>=1.17 in c:\\users\\33783\\anaconda3\\lib\\site-packages (from seaborn) (1.24.3)\n",
      "Requirement already satisfied: pandas>=0.25 in c:\\users\\33783\\anaconda3\\lib\\site-packages (from seaborn) (2.0.3)\n",
      "Requirement already satisfied: matplotlib!=3.6.1,>=3.1 in c:\\users\\33783\\anaconda3\\lib\\site-packages (from seaborn) (3.7.2)\n",
      "Requirement already satisfied: contourpy>=1.0.1 in c:\\users\\33783\\anaconda3\\lib\\site-packages (from matplotlib!=3.6.1,>=3.1->seaborn) (1.0.5)\n",
      "Requirement already satisfied: cycler>=0.10 in c:\\users\\33783\\anaconda3\\lib\\site-packages (from matplotlib!=3.6.1,>=3.1->seaborn) (0.11.0)\n",
      "Requirement already satisfied: fonttools>=4.22.0 in c:\\users\\33783\\anaconda3\\lib\\site-packages (from matplotlib!=3.6.1,>=3.1->seaborn) (4.25.0)\n",
      "Requirement already satisfied: kiwisolver>=1.0.1 in c:\\users\\33783\\anaconda3\\lib\\site-packages (from matplotlib!=3.6.1,>=3.1->seaborn) (1.4.4)\n",
      "Requirement already satisfied: packaging>=20.0 in c:\\users\\33783\\anaconda3\\lib\\site-packages (from matplotlib!=3.6.1,>=3.1->seaborn) (23.1)\n",
      "Requirement already satisfied: pillow>=6.2.0 in c:\\users\\33783\\anaconda3\\lib\\site-packages (from matplotlib!=3.6.1,>=3.1->seaborn) (10.2.0)\n",
      "Requirement already satisfied: pyparsing<3.1,>=2.3.1 in c:\\users\\33783\\anaconda3\\lib\\site-packages (from matplotlib!=3.6.1,>=3.1->seaborn) (3.0.9)\n",
      "Requirement already satisfied: python-dateutil>=2.7 in c:\\users\\33783\\anaconda3\\lib\\site-packages (from matplotlib!=3.6.1,>=3.1->seaborn) (2.8.2)\n",
      "Requirement already satisfied: pytz>=2020.1 in c:\\users\\33783\\anaconda3\\lib\\site-packages (from pandas>=0.25->seaborn) (2023.3.post1)\n",
      "Requirement already satisfied: tzdata>=2022.1 in c:\\users\\33783\\anaconda3\\lib\\site-packages (from pandas>=0.25->seaborn) (2023.3)\n",
      "Requirement already satisfied: six>=1.5 in c:\\users\\33783\\anaconda3\\lib\\site-packages (from python-dateutil>=2.7->matplotlib!=3.6.1,>=3.1->seaborn) (1.16.0)\n"
     ]
    }
   ],
   "source": [
    "# Un-comment and run to install seaborn\n",
    "# !pip install seaborn\n",
    "!pip install seaborn"
=======
   "execution_count": null,
   "metadata": {},
   "outputs": [],
   "source": [
    "# Un-comment and run to install seaborn\n",
    "# !pip install seaborn"
>>>>>>> 52ffef64fad52b6491d809afbccad1b6693ccc6a
   ]
  },
  {
   "cell_type": "code",
<<<<<<< HEAD
   "execution_count": 62,
   "metadata": {},
   "outputs": [
    {
     "name": "stderr",
     "output_type": "stream",
     "text": [
      "C:\\Users\\33783\\AppData\\Local\\Temp\\ipykernel_35164\\682351945.py:10: UserWarning: \n",
      "\n",
      "`distplot` is a deprecated function and will be removed in seaborn v0.14.0.\n",
      "\n",
      "Please adapt your code to use either `displot` (a figure-level function with\n",
      "similar flexibility) or `histplot` (an axes-level function for histograms).\n",
      "\n",
      "For a guide to updating your code to use the new functions, please see\n",
      "https://gist.github.com/mwaskom/de44147ed2974457ad6372750bbe5751\n",
      "\n",
      "  sns.distplot(data, bins=30, kde=True, color=\"blue\")\n"
     ]
    },
    {
     "data": {
      "image/png": "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",
      "text/plain": [
       "<Figure size 640x480 with 1 Axes>"
      ]
     },
     "metadata": {},
     "output_type": "display_data"
    }
   ],
=======
   "execution_count": null,
   "metadata": {},
   "outputs": [],
>>>>>>> 52ffef64fad52b6491d809afbccad1b6693ccc6a
   "source": [
    "import numpy as np\n",
    "import seaborn as sns\n",
    "import matplotlib.pyplot as plt\n",
    "\n",
    "# Generate a random dataset\n",
    "data = np.random.normal(loc=0, scale=1, size=1000)\n",
    "\n",
    "# Create a distribution plot\n",
    "sns.set(style=\"whitegrid\")  # Set the style for the plot\n",
    "sns.distplot(data, bins=30, kde=True, color=\"blue\")\n",
    "\n",
    "plt.title('Distribution Plot of Random Data')\n",
    "plt.xlabel('Value')\n",
    "plt.ylabel('Density')\n",
    "plt.show()"
   ]
  },
  {
   "cell_type": "code",
   "execution_count": null,
   "metadata": {},
   "outputs": [],
   "source": []
  }
 ],
 "metadata": {
  "kernelspec": {
<<<<<<< HEAD
   "display_name": "Python 3 (ipykernel)",
=======
   "display_name": "ppchem",
>>>>>>> 52ffef64fad52b6491d809afbccad1b6693ccc6a
   "language": "python",
   "name": "python3"
  },
  "language_info": {
   "codemirror_mode": {
    "name": "ipython",
    "version": 3
   },
   "file_extension": ".py",
   "mimetype": "text/x-python",
   "name": "python",
   "nbconvert_exporter": "python",
   "pygments_lexer": "ipython3",
   "version": "3.10.13"
  }
 },
 "nbformat": 4,
<<<<<<< HEAD
 "nbformat_minor": 4
=======
 "nbformat_minor": 2
>>>>>>> 52ffef64fad52b6491d809afbccad1b6693ccc6a
}
